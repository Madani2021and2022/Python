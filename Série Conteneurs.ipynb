{
 "cells": [
  {
   "cell_type": "markdown",
   "id": "de9a184c",
   "metadata": {},
   "source": [
    "# Exercice 1\n",
    "\n",
    "Utiliser la fonction range() pour afficher :\n",
    "<ol>\n",
    "    <li>Les entiers de 0 à 3</li>\n",
    "    <li>Les entiers de 4 à 7</li>\n",
    "    <li>Les entiers de 2 à 8 par pas de 2</li>\n",
    "</ol>"
   ]
  },
  {
   "cell_type": "code",
   "execution_count": null,
   "id": "abe80704",
   "metadata": {},
   "outputs": [],
   "source": [
    "for i in range(4):\n",
    "    print(i)\n",
    "print(\"--------------\")\n",
    "for i in range(4,8):\n",
    "    print(i)\n",
    "print(\"--------------\")\n",
    "for i in range(2,9,2):\n",
    "    print(i)"
   ]
  },
  {
   "cell_type": "markdown",
   "id": "909c886b",
   "metadata": {},
   "source": [
    "# Exercice 2\n",
    "\n",
    "Définir la liste : liste = [17, 38, 10, 25, 72, 50, 80, 12, 45], puis effectuer les actions suivantes :\n",
    "<ol>\n",
    "    <li>Trier et afficher la liste</li>\n",
    "    <li>Ajouter l’élément 12 à la fin de la liste et afficher la liste</li>\n",
    "    <li>Ajouter l’élément 12 au milieu de la liste et afficher la liste</li>\n",
    "    <li>Ajouter l’élément 12 au début de la liste et afficher la liste</li>\n",
    "    <li>Renverser et afficher la liste</li>\n",
    "    <li>Afficher l’indice de l’élément 17</li>\n",
    "    <li>Enlever l’élément 30 et afficher la liste</li>\n",
    "    <li>Afficher la sous-liste du 2ème au 5ème élément</li>\n",
    "    <li>Afficher la sous-liste du 2ème au dernier élément</li>\n",
    "    <li>Afficher la sous-liste du début au 3ème élément</li>\n",
    "    <li>Vérifier l’appartenance de l’élément 25 dans la liste</li>\n",
    "</ol>\n"
   ]
  },
  {
   "cell_type": "code",
   "execution_count": 1,
   "id": "5d192fbd",
   "metadata": {},
   "outputs": [
    {
     "name": "stdout",
     "output_type": "stream",
     "text": [
      "0. Liste initial\n",
      "[17, 38, 10, 25, 72, 50, 80, 12, 45]\n",
      "1. Liste triée\n",
      "[10, 12, 17, 25, 38, 45, 50, 72, 80]\n",
      "2. Ajouter un élément à la fin de la liste\n",
      "[10, 12, 17, 25, 38, 45, 50, 72, 80, 12]\n",
      "3. Ajouter un élément au milieu de la liste\n",
      "[10, 12, 17, 25, 38, 100, 45, 50, 72, 80, 12]\n",
      "4. Ajouter un élément au début de la liste\n",
      "[200, 10, 12, 17, 25, 38, 100, 45, 50, 72, 80, 12]\n",
      "5. Renverser la liste\n",
      "[12, 80, 72, 50, 45, 100, 38, 25, 17, 12, 10, 200]\n",
      "6. Indice de l'élément 17\n",
      "Indice : 8\n",
      "7. Enlever 30 de la liste\n",
      "30 n'existe pas dans la liste\n",
      "[12, 80, 72, 50, 45, 100, 38, 25, 17, 12, 10, 200]\n",
      "8. Afficher la sous-liste du 2ème au 5ème élément\n",
      "[80, 72, 50, 45]\n",
      "9. Afficher la sous-liste du 2ème au dernier élément\n",
      "[80, 72, 50, 45, 100, 38, 25, 17, 12, 10, 200]\n",
      "10. Afficher la sous-liste du début au 3ème élément\n",
      "[12, 80, 72]\n",
      "11. Vérifier l’appartenance de l’élément 25 dans la liste\n",
      "25 existe dans la liste : True\n"
     ]
    }
   ],
   "source": [
    "liste = [17, 38, 10, 25, 72, 50, 80, 12, 45]\n",
    "print(\"0. Liste initial\")\n",
    "print(liste)\n",
    "print(\"1. Liste triée\")\n",
    "liste.sort()\n",
    "print(liste)\n",
    "print(\"2. Ajouter un élément à la fin de la liste\")\n",
    "liste.append(12)\n",
    "print(liste)\n",
    "print(\"3. Ajouter un élément au milieu de la liste\")\n",
    "liste.insert(len(liste)//2, 100)\n",
    "print(liste)\n",
    "print(\"4. Ajouter un élément au début de la liste\")\n",
    "liste.insert(0, 200)\n",
    "print(liste)\n",
    "print(\"5. Renverser la liste\")\n",
    "liste.reverse()\n",
    "print(liste)\n",
    "print(\"6. Indice de l'élément 17\")\n",
    "if 17 in liste:\n",
    "    pos = liste.index(17)\n",
    "else:\n",
    "    print(\"17 n'existe pas dans la liste\")\n",
    "print(\"Indice :\",pos)\n",
    "print(\"7. Enlever 30 de la liste\")\n",
    "if 30 in liste:\n",
    "    liste.remove(30)\n",
    "else:\n",
    "    print(\"30 n'existe pas dans la liste\")\n",
    "print(liste)\n",
    "print(\"8. Afficher la sous-liste du 2ème au 5ème élément\")\n",
    "print(liste[1:5])\n",
    "print(\"9. Afficher la sous-liste du 2ème au dernier élément\")\n",
    "print(liste[1:])\n",
    "print(\"10. Afficher la sous-liste du début au 3ème élément\")\n",
    "print(liste[:3])\n",
    "print(\"11. Vérifier l’appartenance de l’élément 25 dans la liste\")\n",
    "print(\"25 existe dans la liste :\", 25 in liste)"
   ]
  },
  {
   "cell_type": "markdown",
   "id": "c5b399b5",
   "metadata": {},
   "source": [
    "# Exercice 3\n",
    "\n",
    "A partir des deux chaînes \"abc\" et \"de\", créer la liste [‘ad’, ‘ae’, ‘bd’, ‘be’, ‘cd’, ‘ce’]"
   ]
  },
  {
   "cell_type": "code",
   "execution_count": null,
   "id": "322a750a",
   "metadata": {},
   "outputs": [],
   "source": [
    "str1, str2 = \"abc\", \"de\"\n",
    "result=[]\n",
    "for car1 in str1:\n",
    "    for car2 in str2:\n",
    "        result.append(car1+car2)\n",
    "print(result)      "
   ]
  },
  {
   "cell_type": "markdown",
   "id": "b5951a7b",
   "metadata": {},
   "source": [
    "# Exercice 4\n",
    "\n",
    "Définir deux ensembles X = {a, b, c, d} et Y = {s, b, d}, puis afficher les résultats suivants :\n",
    "<ol>\n",
    "    <li>Les ensembles initiaux</li>\n",
    "    <li>Le test d’appartenance de ‘c’ à X</li>\n",
    "    <li>Le test d’appartenance de ‘a’ à Y</li>\n",
    "    <li>Les ensembles X – Y et Y – X</li>\n",
    "    <li>L’ensemble X∪Y (union)</li>\n",
    "    <li>L’ensemble X∩Y (intersection)</li>\n",
    "</ol>"
   ]
  },
  {
   "cell_type": "code",
   "execution_count": 2,
   "id": "67f54d98",
   "metadata": {},
   "outputs": [
    {
     "name": "stdout",
     "output_type": "stream",
     "text": [
      "1. Les ensembles initiaux\n",
      "X: {'c', 'a', 'd', 'b'}  et Y: {'s', 'd', 'b'}\n",
      "2. Le test d’appartenance de ‘c’ à X\n",
      "'c' appartient à X : True\n",
      "3. Le test d’appartenance de ‘a’ à Y\n",
      "'a' appartient à Y : False\n",
      "4. Les ensembles X – Y et Y – X\n",
      "X-Y : {'c', 'a'}  et Y-X : {'s'}\n",
      "5. L’ensemble X∪Y (union)\n",
      "X∪Y : {'a', 'd', 'c', 's', 'b'}\n",
      "6. L’ensemble X∩Y (intersection)\n",
      "X∩Y : {'d', 'b'}\n"
     ]
    }
   ],
   "source": [
    "X = {'a', 'b', 'c', 'd'}\n",
    "Y = {'s', 'b', 'd'}\n",
    "print(\"1. Les ensembles initiaux\")\n",
    "print(\"X:\",X,\" et Y:\",Y)\n",
    "print(\"2. Le test d’appartenance de ‘c’ à X\")\n",
    "print(\"'c' appartient à X :\",'c' in X)\n",
    "print(\"3. Le test d’appartenance de ‘a’ à Y\")\n",
    "print(\"'a' appartient à Y :\",'a' in Y)\n",
    "print(\"4. Les ensembles X – Y et Y – X\")\n",
    "diff1 = X-Y\n",
    "diff2 = Y-X\n",
    "print(\"X-Y :\",diff1,\" et Y-X :\",diff2)\n",
    "print(\"5. L’ensemble X∪Y (union)\")\n",
    "print(\"X∪Y :\",X|Y)\n",
    "print(\"6. L’ensemble X∩Y (intersection)\")\n",
    "print(\"X∩Y :\",X&Y)"
   ]
  },
  {
   "cell_type": "markdown",
   "id": "f75def47",
   "metadata": {},
   "source": [
    "# Exercice 5\n",
    "\n",
    "Ecrire une fonction compterMots ayant un argument chaîne de caractères et renvoie un dictionnaire qui contient pour chaque mot sa fréquence."
   ]
  },
  {
   "cell_type": "code",
   "execution_count": 3,
   "id": "731f4a71",
   "metadata": {},
   "outputs": [],
   "source": [
    "def compterMots1(str='Bonjour tout le monde bonjour bonsoir le monde'):\n",
    "    result=dict()\n",
    "    str = str.lower()\n",
    "    tab = str.split()\n",
    "    print(tab)\n",
    "    for element in tab:\n",
    "        result[element]=tab.count(element)\n",
    "    return result\n",
    "def compterMots2(str='Bonjour tout le monde bonjour bonsoir le monde'):\n",
    "    result=dict()\n",
    "    str = str.lower()\n",
    "    tab = str.split()\n",
    "    ens = set(tab)\n",
    "    print(ens)\n",
    "    for element in ens:\n",
    "        result[element]=tab.count(element)\n",
    "    return result"
   ]
  },
  {
   "cell_type": "code",
   "execution_count": 5,
   "id": "5f7119de",
   "metadata": {},
   "outputs": [
    {
     "name": "stdout",
     "output_type": "stream",
     "text": [
      "['bonjour', 'tout', 'le', 'monde', 'bonjour', 'bonsoir', 'le', 'monde']\n"
     ]
    },
    {
     "data": {
      "text/plain": [
       "{'bonjour': 2, 'tout': 1, 'le': 2, 'monde': 2, 'bonsoir': 1}"
      ]
     },
     "execution_count": 5,
     "metadata": {},
     "output_type": "execute_result"
    }
   ],
   "source": [
    "compterMots1()"
   ]
  },
  {
   "cell_type": "markdown",
   "id": "ccb2e0d5",
   "metadata": {},
   "source": [
    "# Exercice 6\n",
    "\n",
    "En utilisant une liste, implémenter une pile (LIFO). Pour cela, définir les fonctions suivantes :\n",
    "<ol>\n",
    "    <li>pile : qui retourne une pile à partir d’une liste variable d’éléments passés en argument</li>\n",
    "    <li>empile : empile un élément en haut de la pile</li>\n",
    "    <li>depile : dépile un élément du haut de la liste</li>\n",
    "</ol>"
   ]
  },
  {
   "cell_type": "code",
   "execution_count": null,
   "id": "6a23ae9f",
   "metadata": {},
   "outputs": [],
   "source": [
    "lapile = []\n",
    "def pile(liste):\n",
    "    for el in liste:\n",
    "        lapile.append(el)\n",
    "    return (lapile)\n",
    "def empile(el):\n",
    "    lapile.insert(0, el)\n",
    "def depile():\n",
    "    if len(lapile)>0:\n",
    "        lapile.remove(lapile[0])\n",
    "print(pile([1,4,2,0]))\n",
    "empile(100)\n",
    "print(lapile)\n",
    "depile()\n",
    "print(lapile)"
   ]
  },
  {
   "cell_type": "markdown",
   "id": "48f5b220",
   "metadata": {},
   "source": [
    "# Exercice 7\n",
    "\n",
    "De la même manière, implémenter une queue FIFO avec une liste. Les fonctions à considérer sont :\n",
    "<ol>\n",
    "    <li>file : qui retourne une file à partir d’une liste variable d’éléments passés en argument</li>\n",
    "    <li>inserer : ajout d’un élément à la queue haut de la file</li>\n",
    "    <li>retirer : retire un élément de la tête de la file</li>\n",
    "</ol>"
   ]
  },
  {
   "cell_type": "code",
   "execution_count": null,
   "id": "ea9328ca",
   "metadata": {},
   "outputs": [],
   "source": [
    "lafile = []\n",
    "def file(liste):\n",
    "    for el in liste:\n",
    "        lafile.append(el)\n",
    "    return (lafile)\n",
    "def inserer(el):\n",
    "    lafile.insert(0, el)\n",
    "def retirer():\n",
    "    if len(lafile)>0:\n",
    "        lafile.remove(lafile[-1])\n",
    "print(file([1,4,2,0]))\n",
    "inserer(100)\n",
    "print(lafile)\n",
    "retirer()\n",
    "print(lafile)"
   ]
  }
 ],
 "metadata": {
  "kernelspec": {
   "display_name": "Python 3",
   "language": "python",
   "name": "python3"
  },
  "language_info": {
   "codemirror_mode": {
    "name": "ipython",
    "version": 3
   },
   "file_extension": ".py",
   "mimetype": "text/x-python",
   "name": "python",
   "nbconvert_exporter": "python",
   "pygments_lexer": "ipython3",
   "version": "3.8.8"
  }
 },
 "nbformat": 4,
 "nbformat_minor": 5
}

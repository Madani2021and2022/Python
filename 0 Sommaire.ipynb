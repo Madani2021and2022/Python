{
 "cells": [
  {
   "cell_type": "markdown",
   "metadata": {},
   "source": [
    "<table width='100%' border='0'>\n",
    "    <tr>\n",
    "        <td><img src='images/ucd.png' width='120'></td>\n",
    "        <td><img src='images/dept_inf.png' width='350'></td>\n",
    "        <td><img src='images/fs.png' width='120'></td>\n",
    "    </tr>\n",
    "</table>"
   ]
  },
  {
   "cell_type": "markdown",
   "metadata": {},
   "source": [
    "# Langage Python\n",
    "\n",
    "Email : <a href='mailto:madani.a@ucd.ac.ma'>madani.a@ucd.ac.ma</a>\n",
    "<img src='images/python.png'>\n",
    "\n",
    "## Table de matières\n",
    "1.\tIntroduction\n",
    "2.\tEntrées/sorties et variables\n",
    "3.\tContrôle de flux d’instructions : IF\n",
    "4.\tBoucles : FOR et WHILE\n",
    "5.\tConteneurs standards : listes, tuples, ensembles et dictionnaires\n",
    "6.\tFonctions et procédures\n",
    "7.\tModules\n",
    "8.\tProgrammation orientée objets\n",
    "9.\tExceptions\n",
    "10. Numpy\n",
    "11. Matplotlib\n",
    "12. Pandas\n",
    "13. OpenCV\n"
   ]
  }
 ],
 "metadata": {
  "kernelspec": {
   "display_name": "Python 3",
   "language": "python",
   "name": "python3"
  },
  "language_info": {
   "codemirror_mode": {
    "name": "ipython",
    "version": 3
   },
   "file_extension": ".py",
   "mimetype": "text/x-python",
   "name": "python",
   "nbconvert_exporter": "python",
   "pygments_lexer": "ipython3",
   "version": "3.8.3"
  }
 },
 "nbformat": 4,
 "nbformat_minor": 2
}

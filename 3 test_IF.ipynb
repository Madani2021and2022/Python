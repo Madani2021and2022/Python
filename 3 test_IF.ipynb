{
 "cells": [
  {
   "cell_type": "markdown",
   "metadata": {},
   "source": [
    "<table width='100%' border='0'>\n",
    "    <tr>\n",
    "        <td><img src='images/ucd.png' width='120'></td>\n",
    "        <td><img src='images/dept_inf.png' width='350'></td>\n",
    "        <td><img src='images/fs.png' width='120'></td>\n",
    "    </tr>\n",
    "</table>"
   ]
  },
  {
   "cell_type": "markdown",
   "metadata": {},
   "source": [
    "# Le contrôle de flux d’instructions : IF\n",
    "\n",
    "Email : <a href='mailto:madani.a@ucd.ac.ma'>madani.a@ucd.ac.ma</a>\n",
    "<img src='images/python.png'>\n",
    "\n",
    "<p>\n",
    "Il faut noter, tout d’abord, que toutes les instructions se trouvant au même niveau d’indentation appartiennent au même bloc\n",
    "</p>"
   ]
  },
  {
   "cell_type": "markdown",
   "metadata": {},
   "source": [
    "#bloc 1\n",
    "…\n",
    "…\n",
    "…\n",
    "            #bloc 2\n",
    "             …\n",
    "             …\n",
    "#bloc 3\n",
    "…\n",
    "…\n"
   ]
  },
  {
   "cell_type": "markdown",
   "metadata": {},
   "source": [
    "<p>\n",
    "L’instruction <strong>if</strong> permet de choisir entre l’un ou l’autre bloc d’instruction suivant la valeur de la condition. On peut avoir quatre syntaxes de l’instruction if :\n",
    "</p>"
   ]
  },
  {
   "cell_type": "markdown",
   "metadata": {},
   "source": [
    "<strong>\n",
    "    <ul>\n",
    "<li>1.\tif condition :\n",
    "….\n",
    "<li>2.\tif condition :\n",
    "…\n",
    "else :\n",
    "….\n",
    "<li>3.\tif condition :\n",
    "…\n",
    "else:\n",
    "    if  condition :\n",
    "    ….\n",
    "    else :\n",
    "    …..\n",
    "<li>4.\tif condition :\n",
    "…\n",
    "elif  condition :\n",
    "….\n",
    "else :\n",
    "…..\n",
    "</strong>"
   ]
  },
  {
   "cell_type": "code",
   "execution_count": 1,
   "metadata": {},
   "outputs": [
    {
     "name": "stdout",
     "output_type": "stream",
     "text": [
      "Donnez un entier :12\n",
      "Donnez un autre entier :3\n",
      "Le maximum de  12.0  est de  3.0  est  12.0\n",
      "Le maximum de 12.0 est de 3.0 est 12.0\n"
     ]
    }
   ],
   "source": [
    "a = input(\"Donnez un entier :\")\n",
    "b = input(\"Donnez un autre entier :\")\n",
    "a = float(a)\n",
    "b = float(b)\n",
    "if a>b :\n",
    "    maximum = a\n",
    "else:\n",
    "    maximum = b\n",
    "print(\"Le maximum de \", a, \" est de \", b, \" est \", maximum)\n",
    "print(\"Le maximum de \"+str(a) + \" est de \"+ str(b) + \" est \" + str(maximum))"
   ]
  },
  {
   "cell_type": "markdown",
   "metadata": {},
   "source": [
    "<p>Remarque :</p>\n",
    "<ul>\n",
    "<li>Attention au \":\" qui est primordial \n",
    "<li>C’est l’indentation (le décalage par rapport à la marge gauche) qui délimite le bloc d’instructions \n",
    "<li>La partie else est facultative \n",
    "<li>Il n’y a pas le <b>switch</b> ou <b>case … of</b> en Python\n",
    "</ul>\n",
    "\n",
    "<p>\n",
    "Une autre possibilité pour faire des tests est d’utiliser l’opérateur ternaire :\n",
    "</p>"
   ]
  },
  {
   "cell_type": "markdown",
   "metadata": {},
   "source": [
    "<b>&lt; result &gt; = &lt; a &gt; if &lt; condition &gt; else &lt; b &gt;</b>"
   ]
  },
  {
   "cell_type": "markdown",
   "metadata": {},
   "source": [
    "<p>Ce qui est equivalent à :</p>"
   ]
  },
  {
   "cell_type": "markdown",
   "metadata": {},
   "source": [
    "if condition : <br>\n",
    "&nbsp;&nbsp;&nbsp; result=a <br>\n",
    "else : <br>\n",
    "&nbsp;&nbsp;&nbsp; result=b"
   ]
  },
  {
   "cell_type": "code",
   "execution_count": 1,
   "metadata": {},
   "outputs": [
    {
     "name": "stdout",
     "output_type": "stream",
     "text": [
      "Donnez un entier :14\n",
      "Donnez un autre entier :56\n",
      "Le maximum de  14.0  est de  56.0  est  56.0\n"
     ]
    }
   ],
   "source": [
    "a = input(\"Donnez un entier :\")\n",
    "b = input(\"Donnez un autre entier :\")\n",
    "a = float(a)\n",
    "b = float(b)\n",
    "maximum = a if a>b else b\n",
    "print(\"Le maximum de \", a, \" est de \", b, \" est \", maximum)"
   ]
  },
  {
   "cell_type": "markdown",
   "metadata": {},
   "source": [
    "## Exercice 1\n",
    "\n",
    "<p>\n",
    "Ecrire un programme pour saisir un réel, ensuite affiche sa racine carrée s’il est positif ou nul, sinon affiche un message d’erreur\n",
    "</p>\n",
    "<p>\n",
    "<i>Indication</i> : <br>\n",
    "Utiliser la fonction <strong>sqrt()</strong> du module math.\n",
    "</p>\n",
    "<p>\n",
    "Par exemple : <br>\n",
    "from math import sqrt <br>\n",
    "r = sqrt(a)\n",
    "</p>\n",
    "\n",
    "## Exercice 2\n",
    "\n",
    "<p>\n",
    "Dans un dictionnaire, pour ordonner des mots on utilise l’ordre lexicographique. Donner un programme pour saisir deux mots (chaînes de caractères) et de les afficher dans l’ordre lexicographique. Utiliser deux méthodes, l’une avec l’instruction if … else …., l’autre avec l’instruction ternaire : &lt; result &gt; = &lt; a &gt; if &lt; condition &gt; else &lt; b &gt;\n",
    "</p>\n",
    "\n",
    "## Exercice 3\n",
    "\n",
    "<p>\n",
    "Résoudre l’équation ax<sup>2</sup> + bx + c =0 dans R, puis dans C, avec a, b et c trois réel. La valeur de a est non nulle\n",
    "</p>\n",
    "\n",
    "## Exercice 4\n",
    "\n",
    "<p>\n",
    "Le but de cet exercice est de sécuriser une enceinte pressurisée. Pour cela, on se fixe une pression seuil (pSeuil) et un volume seuil (vSeuil) avec les valeurs 2.3 et 7.41 respectivement.\n",
    "</p>\n",
    "<p>\n",
    "Ecrire un script permettant de saisir la pression et le volume courant de l’enceinte pour simuler ensuite le comportement suivant :\n",
    "</p>\n",
    "<ul>\n",
    "<li>Si le volume et la pression sont supérieurs aux seuils : arrêt immédiat\n",
    "<li>Si seule la pression est supérieure à la pression seuil : demander d’augmenter le volume de l’enceinte\n",
    "<li>Si seul le volume est supérieur au volume seuil : demander de diminuer le volume de l’enceinte\n",
    "<li>Sinon déclarer que tout va bien\n",
    "</ul>\n",
    "\n"
   ]
  }
 ],
 "metadata": {
  "kernelspec": {
   "display_name": "Python 3",
   "language": "python",
   "name": "python3"
  },
  "language_info": {
   "codemirror_mode": {
    "name": "ipython",
    "version": 3
   },
   "file_extension": ".py",
   "mimetype": "text/x-python",
   "name": "python",
   "nbconvert_exporter": "python",
   "pygments_lexer": "ipython3",
   "version": "3.8.3"
  }
 },
 "nbformat": 4,
 "nbformat_minor": 2
}

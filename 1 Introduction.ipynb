{
 "cells": [
  {
   "cell_type": "markdown",
   "metadata": {},
   "source": [
    "<table width='100%' border='0'>\n",
    "    <tr>\n",
    "        <td><img src='images/ucd.png' width='120'></td>\n",
    "        <td><img src='images/dept_inf.png' width='350'></td>\n",
    "        <td><img src='images/fs.png' width='120'></td>\n",
    "    </tr>\n",
    "</table>"
   ]
  },
  {
   "cell_type": "markdown",
   "metadata": {
    "collapsed": true
   },
   "source": [
    "# Langage Python : Introduction\n",
    "\n",
    "Email : <a href='mailto:madani.a@ucd.ac.ma'>madani.a@ucd.ac.ma</a>\n",
    "<img src='images/python.png'>\n",
    "\n",
    "## Historique\n",
    "\n",
    "<p>\n",
    "Le langage Python a été créé en 1990/1991 par Guido van Rossum à l'institution nationale de recherche des Pays-Bas StichtingMathematisch.\n",
    "</p>\n",
    "<p>\n",
    "Entre 1995 et 2000, Guido van Rossum poursuit le développement du langage dans un nouvel institut situé à Reston, en Virginie, aux États-Unis, à la Corporation for National Research Initiatives (CNRI) où il développera à partir de la version 1.2, les versions jusqu'à 1.5.2.\n",
    "</p>\n",
    "<p>\n",
    "En mai 2000, le développement se poursuit chez BeOpen.com sous le nom de l'équipe BeOpenPythonLabs team. Puis en octobre 2000, l'équipe déménage chez Digital Creations (actuellement Zope Corporation). \n",
    "</p>\n",
    "<p>\n",
    "En 2001, Zope Corporation et certains partenaires créent l'organisme sans but lucratif Python Software Foundation (PSF, voir http://www.python.org/psf/), laquelle s'occupe de gérer la propriété intellectuelle du langage de programmation.\n",
    "</p>\n",
    "<p>\n",
    "Fin 2008 : sorties simultanées de Python 2.6 et de Python 3.0\n",
    "</p>\n",
    "<p>\n",
    "2010 : versions en cours\n",
    "</p>"
   ]
  },
  {
   "cell_type": "markdown",
   "metadata": {},
   "source": [
    "## Caractéristiques de Python\n",
    "\n",
    "<p>\n",
    "Python est un langage portable, dynamique, extensible, gratuit, qui permet une approche modulaire et orientée objet de la programmation. Détaillons quelques-unes de ses caractéristiques :\n",
    "</p>\n",
    "<ul>\n",
    "<li>Python est portable, non seulement sur les différentes variantes d’Unix, mais aussi sur les OS propriétaires : Mac OS, BeOS, NeXTStep, MS-DOS et les différentes variantes de Windows.\n",
    "<li>Python est gratuit, on peut l’utiliser sans restriction dans des projets commerciaux.\n",
    "<li>Python convient aussi bien à des scripts d’une dizaine de lignes qu’a des projets complexes de plusieurs dizaines de milliers de lignes.\n",
    "<li>La syntaxe de Python est très simple et, combinée à des types de données évolués (listes,dictionnaires...), conduit à des programmes à la fois très compacts et très lisibles.\n",
    "<li>Python gère ses ressources (mémoire, descripteurs de fichiers...) sans intervention du programmeur, par un mécanisme de comptage de références (proche, mais différent, d’un garbage collector).\n",
    "<li>Il n’y a pas de pointeurs explicites en Python.\n",
    "<li>Python est (optionnellement) multithread.\n",
    "<li>Python est orienté objet. Il supporte l’héritage multiple et la surcharge des opérateurs.\n",
    "<li>Python intègre, comme Java ou les versions récentes de C++, un système d’exceptions, qui permettent de simplifier considérablement la gestion des erreurs.\n",
    "<li>Comme Scheme ou SmallTalk, Python utilise des types dynamiques. Tout objet manipulable par le programmeur possède un type bien défini à l’exécution, qui n’a pas besoin d’être déclaré à l’avance.\n",
    "\n",
    "<li>Python est extensible : comme Tcl ou Guile, on peut facilement l’interfacer avec des bibliothèques C existantes. On peut aussi s’en servir comme d’un langage d’extension pour des systèmes logiciels complexes.\n",
    "<li>La bibliothèque standard de Python, et les paquetages, donnent accès à une grande variété de services : chaines de caractères et expressions régulières, services UNIX standards (fichiers, pipes, signaux, sockets, threads...), protocoles Internet (Web, News, FTP, CGI, HTML...), persistance et bases de données, interfaces graphiques.\n",
    "<li>Python est un langage qui continue a évoluer, soutenu par une communauté d’utilisateurs enthousiastes et responsables, dont la plupart sont des supporters du logiciel libre. Parallèlement à l’interpréteur principal, écrit en C et maintenu par le créateur du langage, un deuxième interpréteur, écrit en Java, est en cours de développement.\n",
    "<li>Enfin, Python est un langage de choix pour traiter le XML.\n",
    "</ul>\n"
   ]
  },
  {
   "cell_type": "markdown",
   "metadata": {},
   "source": [
    "## Mode de programmation de Python\n",
    "\n",
    "### Compilation du code source en un fichier exécutable. \n",
    "\n",
    "<p>\n",
    "La compilation traduit le programme source une fois pour toute. Cette technique offre deux avantages, la sécurité du code source et la rapidité d’exécution, par contre le programmeur est obligé de recompiler à chaque modification\n",
    " </p>\n",
    "\n",
    "<img src=\"images/compilation.png\">\n",
    "\n",
    "### Interprétation du code source\n",
    "\n",
    "<p>\n",
    "Dans la technique de l’interprétation chaque ligne du code source analysé est traduite au fur et à mesure en instructions directement exécutées. Aucun programme exécutable n’est généré. Cette technique est très souple mais les codes générés sont peu performants : l’interpréteur doit être utilisé à chaque exécution, ce qui entraîne un lenteur au niveau de l’exécution.\n",
    "</p>\n",
    "\n",
    "<img src=\"images/interpretation.png\">\n",
    "\n",
    " \n",
    "### Technique mixte de Python\n",
    "\n",
    "<p>\n",
    "La technique de production de Python est une technique mixte : \n",
    "</p>\n",
    "<ul>\n",
    "<li>Compilation du code source en bytecode\n",
    "<li>l’interprétation du bytecode compilé.\n",
    "</ul>\n",
    "\n",
    "<img src=\"images/mixte.png\">\n",
    "\n",
    "<p> \n",
    "Cette technique possède plusieurs avantages, entre autres :\n",
    "</p>\n",
    "<ul>\n",
    "<li>Bon compromis entre la facilité de développement et la rapidité d’exécution ;\n",
    "<li>le bytecode (forme intermédiaire) est portable sur tout ordinateur muni de la machine virtuelle Python.\n",
    "<li>Exécution rapide : Pour exécuter un programme, Python charge le fichier source .py en mémoire vive, en fait l’analyse, produit le bytecode et enfin l’exécute. Afin de ne pas refaire inutilement toute la phase d’analyse et de production, Python sauvegarde le bytecode produit (dans un fichier .pyo ou .pyc) et recharge simplement le fichier bytecode s’il est plus récent que le fichier source dont il est issu.\n",
    "</ul>\n"
   ]
  }
 ],
 "metadata": {
  "kernelspec": {
   "display_name": "Python 3",
   "language": "python",
   "name": "python3"
  },
  "language_info": {
   "codemirror_mode": {
    "name": "ipython",
    "version": 3
   },
   "file_extension": ".py",
   "mimetype": "text/x-python",
   "name": "python",
   "nbconvert_exporter": "python",
   "pygments_lexer": "ipython3",
   "version": "3.8.3"
  }
 },
 "nbformat": 4,
 "nbformat_minor": 2
}

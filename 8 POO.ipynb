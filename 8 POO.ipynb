{
 "cells": [
  {
   "cell_type": "markdown",
   "metadata": {},
   "source": [
    "<table width='100%' border='0'>\n",
    "    <tr>\n",
    "        <td><img src='images/ucd.png' width='120'></td>\n",
    "        <td><img src='images/dept_inf.png' width='350'></td>\n",
    "        <td><img src='images/fs.png' width='120'></td>\n",
    "    </tr>\n",
    "</table>"
   ]
  },
  {
   "cell_type": "markdown",
   "metadata": {},
   "source": [
    "# Programmation Orientée Objets\n",
    "\n",
    "Email : <a href='mailto:madani.a@ucd.ac.ma'>madani.a@ucd.ac.ma</a>\n",
    "<img src='images/python.png'>"
   ]
  },
  {
   "cell_type": "markdown",
   "metadata": {},
   "source": [
    "## Introduction"
   ]
  },
  {
   "cell_type": "markdown",
   "metadata": {},
   "source": [
    "<p>\n",
    "Contrairement à la programmation classique (étudiée au travers des langages C, Pascal, …) qui définit un programme comme étant un ensemble de données sur lesquelles agissent des fonctions, <strong>la programmation orientée objets (POO)</strong> considère un programme comme un ensemble d’objets qui communiquent par échange de messages. Chaque objet englobe (encapsule) ses propres données et fonctions de manipulation de ces données.\n",
    "</p>\n",
    "<p>\n",
    "<strong>Un objet</strong> est une entité autonome, ayant une signification dans le problème à modéliser. Un objet est caractérisé par des propriétés (appelés des <strong>attributs</strong>) et des fonctions de manipulations de ces données (qu’on appelle des <strong>méthodes</strong>). Le fait de regrouper dans une même entité des attributs et des fonctions est appelé encapsulation.\n",
    "</p>\n",
    "<p>\n",
    "<strong>Une classe</strong> est un moule à partir duquel on crée des objets. Un objet est appelé aussi une instance d’une classe, et le fait de créer une instance d’une classe est appelé une instanciation.\n",
    "</p>\n",
    "<p>\n",
    "Dans une classe, une donnée (attribut ou méthode) peut être <strong>publique</strong> (accessible par tout le monde) ou <strong>privée</strong> (accessible seulement dans la classe où elle a été déclarée).\n",
    "</p>\n",
    "<p>\n",
    "<strong>L’héritage</strong> est un autre concept de la POO qui permet de partager des données entre classes. Parmi les avantages de l’héritage on peut citer :\n",
    "</p>\n",
    "<ul>\n",
    "<li>Structuration du programme\n",
    "<li>Réduction au niveau du code source\n",
    "<li>Simplicité de la maintenance\n",
    "<li>Réutilisabilité des traitements\n",
    "</ul>\n",
    "<p>\n",
    "Par exemple, considérons les trois classes suivantes :\n",
    "</p>\n"
   ]
  },
  {
   "cell_type": "markdown",
   "metadata": {},
   "source": [
    "<img src=\"images/heritage1.png\">"
   ]
  },
  {
   "cell_type": "markdown",
   "metadata": {},
   "source": [
    "<p>\n",
    "<u><strong>Problèmes :</strong></u>\n",
    "</p>\n",
    "<ul>\n",
    "<li>Le code doit être déclaré 3 fois !\n",
    "<li>Et si on veut changer le type du code, par exemple !\n",
    "</ul>\n",
    "<p>\n",
    "<u><strong>Solution avec l’héritage :</strong></u>\n",
    "</p>"
   ]
  },
  {
   "cell_type": "markdown",
   "metadata": {},
   "source": [
    "<img src=\"images/heritage2.png\">"
   ]
  },
  {
   "cell_type": "markdown",
   "metadata": {},
   "source": [
    "<p>\n",
    "Avec cette solution, <strong>le code</strong> et <strong>le nom</strong> sont déclarés une seule fois, ce qui entraîne une réduction du code source. De plus, si on a à modifier le type, cette modification ne sera faite que sur une seule variable, ce qui simplifie la maintenance du programme.\n",
    "</p>\n",
    "<p>\n",
    "L’instruction <strong>class</strong> permet d’introduire la définition d’une nouvelle classe (c’est-à-dire d’un nouveau type de données).\n",
    "</p>"
   ]
  },
  {
   "cell_type": "code",
   "execution_count": 2,
   "metadata": {},
   "outputs": [
    {
     "name": "stdout",
     "output_type": "stream",
     "text": [
      "Le nombre de comptes : 1\n",
      "Compte  1  a pour solde  7000\n",
      "Compte  1  a pour solde  9000\n",
      "Compte  1  a pour solde  1000\n"
     ]
    }
   ],
   "source": [
    "#Déclaration de la classe Compte\n",
    "class Compte:\n",
    "    \"\"\"La classe Compte permet de définir\n",
    "une classe compte bancaire\"\"\"\n",
    "    nbre=0 #attribut de classe\n",
    "    def __init__(self, ncompte, solde):\n",
    "        Compte.nbre+=1\n",
    "        self.ncompte=ncompte\n",
    "        self.solde=solde\n",
    "    def deposer(self, somme):\n",
    "        self.solde+=somme\n",
    "    def retirer(self, somme):\n",
    "        if(self.solde>somme):\n",
    "            self.solde-=somme\n",
    "        else:\n",
    "            print(\"Solde insuffisant\")\n",
    "    def consulter(self):\n",
    "        print(\"Compte \", self.ncompte, \" a pour solde \", self.solde)\n",
    "\n",
    "#Utilisation de la classe Compte : instanciation et appel de méthodes\n",
    "c= Compte(1,7000)\n",
    "print(\"Le nombre de comptes : \"+str(Compte.nbre))\n",
    "c.consulter()\n",
    "c.deposer(2000)\n",
    "c.consulter()\n",
    "c.retirer(8000)\n",
    "c.consulter()\n"
   ]
  },
  {
   "cell_type": "code",
   "execution_count": 9,
   "metadata": {},
   "outputs": [
    {
     "name": "stdout",
     "output_type": "stream",
     "text": [
      "Appel de la méthode getCode(): 10\n",
      "Accès à l'attribut code: 10\n"
     ]
    },
    {
     "ename": "AttributeError",
     "evalue": "'Personne' object has no attribute 'nom'",
     "output_type": "error",
     "traceback": [
      "\u001b[1;31m---------------------------------------------------------------------------\u001b[0m",
      "\u001b[1;31mAttributeError\u001b[0m                            Traceback (most recent call last)",
      "\u001b[1;32m<ipython-input-9-c07dc3510b8c>\u001b[0m in \u001b[0;36m<module>\u001b[1;34m\u001b[0m\n\u001b[0;32m     11\u001b[0m \u001b[0mprint\u001b[0m\u001b[1;33m(\u001b[0m\u001b[1;34m'Appel de la méthode getCode():'\u001b[0m\u001b[1;33m,\u001b[0m\u001b[0mp\u001b[0m\u001b[1;33m.\u001b[0m\u001b[0mgetCode\u001b[0m\u001b[1;33m(\u001b[0m\u001b[1;33m)\u001b[0m\u001b[1;33m)\u001b[0m\u001b[1;33m\u001b[0m\u001b[1;33m\u001b[0m\u001b[0m\n\u001b[0;32m     12\u001b[0m \u001b[0mprint\u001b[0m\u001b[1;33m(\u001b[0m\u001b[1;34m'Accès à l\\'attribut code:'\u001b[0m\u001b[1;33m,\u001b[0m\u001b[0mp\u001b[0m\u001b[1;33m.\u001b[0m\u001b[0mcode\u001b[0m\u001b[1;33m)\u001b[0m\u001b[1;33m\u001b[0m\u001b[1;33m\u001b[0m\u001b[0m\n\u001b[1;32m---> 13\u001b[1;33m \u001b[0mprint\u001b[0m\u001b[1;33m(\u001b[0m\u001b[1;34m'Accès à l\\'attribut nom:'\u001b[0m\u001b[1;33m,\u001b[0m\u001b[0mp\u001b[0m\u001b[1;33m.\u001b[0m\u001b[0mnom\u001b[0m\u001b[1;33m)\u001b[0m\u001b[1;33m\u001b[0m\u001b[1;33m\u001b[0m\u001b[0m\n\u001b[0m",
      "\u001b[1;31mAttributeError\u001b[0m: 'Personne' object has no attribute 'nom'"
     ]
    }
   ],
   "source": [
    "class Personne:\n",
    "    def __init__(self, code, nom):\n",
    "        self.code=code #Attribut code est déclaré publique\n",
    "        self.__nom=nom #Attribut nom est déclaré privé\n",
    "    def getCode(self):\n",
    "        return self.code\n",
    "    def getNom(self):\n",
    "        return self.__nom\n",
    "\n",
    "p = Personne(10, 'AA')\n",
    "print('Appel de la méthode getCode():',p.getCode())\n",
    "print('Accès à l\\'attribut code:',p.code)\n",
    "print('Accès à l\\'attribut nom:',p.nom)"
   ]
  },
  {
   "cell_type": "markdown",
   "metadata": {},
   "source": [
    "<p>\n",
    "Une variable définie au niveau d’une classe (comme nbre) est appelé <strong>attribut de classe</strong> et est partagée par tous les objets de cette classe.\n",
    "</p>\n",
    "<p>\n",
    "Une variable définie au niveau d’un objet (comme ncompte et solde) est appelée <strong>attribut d’instance</strong> et est liée uniquement à l’objet pour lequel elle est définie.\n",
    "</p>\n",
    "<p>\n",
    "Un attribut est par défaut public, sauf s’il est précédé par un double underscore « __ », auquel cas,\n",
    "il est considéré comme privé\n",
    "</p>"
   ]
  },
  {
   "cell_type": "code",
   "execution_count": 4,
   "metadata": {},
   "outputs": [
    {
     "name": "stdout",
     "output_type": "stream",
     "text": [
      "Code : 1\n",
      "Code : 2\n",
      "Objet 1\n"
     ]
    },
    {
     "ename": "AttributeError",
     "evalue": "'Test' object has no attribute '__code'",
     "output_type": "error",
     "traceback": [
      "\u001b[1;31m---------------------------------------------------------------------------\u001b[0m",
      "\u001b[1;31mAttributeError\u001b[0m                            Traceback (most recent call last)",
      "\u001b[1;32m<ipython-input-4-c33fc89f4633>\u001b[0m in \u001b[0;36m<module>\u001b[1;34m()\u001b[0m\n\u001b[0;32m     17\u001b[0m \u001b[0mprint\u001b[0m\u001b[1;33m(\u001b[0m\u001b[0mobj2\u001b[0m\u001b[1;33m.\u001b[0m\u001b[0mgetCode\u001b[0m\u001b[1;33m(\u001b[0m\u001b[1;33m)\u001b[0m\u001b[1;33m)\u001b[0m \u001b[1;31m#Code :2 ==> utilité d'un attribut de classe\u001b[0m\u001b[1;33m\u001b[0m\u001b[0m\n\u001b[0;32m     18\u001b[0m \u001b[0mprint\u001b[0m\u001b[1;33m(\u001b[0m\u001b[0mobj1\u001b[0m\u001b[1;33m.\u001b[0m\u001b[0mnom\u001b[0m\u001b[1;33m)\u001b[0m \u001b[1;31m#Objet 1 ==> attribut public\u001b[0m\u001b[1;33m\u001b[0m\u001b[0m\n\u001b[1;32m---> 19\u001b[1;33m \u001b[0mprint\u001b[0m\u001b[1;33m(\u001b[0m\u001b[0mobj1\u001b[0m\u001b[1;33m.\u001b[0m\u001b[0m__code\u001b[0m\u001b[1;33m)\u001b[0m \u001b[1;31m#Erreur, car __code est privé\u001b[0m\u001b[1;33m\u001b[0m\u001b[0m\n\u001b[0m",
      "\u001b[1;31mAttributeError\u001b[0m: 'Test' object has no attribute '__code'"
     ]
    }
   ],
   "source": [
    "#Attributs de classe, d'instance, public et privé\n",
    "class Test:\n",
    "    nbre=0 #nbre : Attribut de classe\n",
    "    def __init__(self, nom):\n",
    "        Test.nbre+=1\n",
    "        self.__code=Test.nbre #__code : Attribut privé\n",
    "        self.nom=nom #nom : Attribut public\n",
    "    def getCode(self):\n",
    "        return \"Code : \"+str(self.__code)\n",
    "    def getNom(self):\n",
    "        return \"Nom : \"+self.nom\n",
    "#Utilisation de la classe\n",
    "obj1=Test(\"Objet 1\")\n",
    "obj2=Test(\"Objet 2\")\n",
    "print(obj1.getCode()) #Code :1\n",
    "print(obj2.getCode()) #Code :2 ==> utilité d'un attribut de classe\n",
    "print(obj1.nom) #Objet 1 ==> attribut public\n",
    "print(obj1.__code) #Erreur, car __code est privé"
   ]
  },
  {
   "cell_type": "markdown",
   "metadata": {},
   "source": [
    "<p>\n",
    "Une méthode s’écrit comme une fonction avec un premier paramètre <strong>self</strong> obligatoire, où self représente l’objet sur lequel la méthode sera appliquée. Autrement dit self est la référence d’instance.\n",
    "</p>\n",
    "<p>\n",
    "<strong>____init____(self, …)</strong> est une méthode spéciale qui a pour rôle de construire des objets : c'est le <strong>constructeur.</strong>\n",
    "</p>\n",
    "<p>\n",
    "Il existe également une autre méthode, <strong>__del__(self)</strong>, qui va être appelée au moment de la destruction de l'objet, c'est le <strong>destructeur</strong>. Remarquer que la méthode __del__ possède un seul argument, qui est self.\n",
    "</p>\n",
    "<p>\n",
    "Quand est-ce qu’un objet est détruit ? Il y a plusieurs cas : \n",
    "</p>\n",
    "<ul>\n",
    "<li>d'abord, quand vous voulez le supprimer explicitement, grâce au mot-clé <strong>del</strong> (<i>del mon_objet</i>).\n",
    "<li>Ensuite, si l'espace de noms contenant l'objet est détruit, l'objet l'est également. Par exemple, si vous instanciez l'objet dans le corps d'une fonction : à la fin de l'appel à la fonction, la méthode __del__ de l'objet sera appelée.\n",
    "<li>Enfin, sinon il sera supprimé à la fin de l'exécution.\n",
    "</ul>\n"
   ]
  },
  {
   "cell_type": "code",
   "execution_count": 10,
   "metadata": {},
   "outputs": [
    {
     "name": "stdout",
     "output_type": "stream",
     "text": [
      "Code:1. Nom:Madani\n",
      "Suppression d'une personne\n",
      "Code:1. Nom:Un autre. Salaire:7000\n"
     ]
    }
   ],
   "source": [
    "#Définition des classes\n",
    "class Personne:\n",
    "    def __init__(self, code, nom):\n",
    "        self.code=code\n",
    "        self.nom=nom\n",
    "    def __str__(self):\n",
    "        return \"Code:\"+str(self.code)+ \". Nom:\"+self.nom\n",
    "    def __del__(self):\n",
    "        print (\"Suppression d'une personne\")\n",
    "class Employe(Personne):\n",
    "    def __init__(self, code, nom, salaire):\n",
    "        Personne.__init__(self, code, nom)\n",
    "        self.salaire=salaire\n",
    "    def __str__(self):\n",
    "        var=Personne.__str__(self)\n",
    "        return var+\". Salaire:\"+str(self.salaire)\n",
    "    def __del__(self):\n",
    "        print (\"Suppression d'un employé\")\n",
    "#Utilisation des classes\n",
    "p=Personne(1, \"Madani\")\n",
    "print(p) #Appel à la méthode __str__\n",
    "del(p) #Suppression de l’objet p explicitement, par contre l’objet e sera supprimé à la fin\n",
    "e=Employe(1,'Un autre', 7000)\n",
    "print(e)\n"
   ]
  },
  {
   "cell_type": "markdown",
   "metadata": {},
   "source": [
    "<p>\n",
    "L’héritage est le mécanisme qui permet de se servir d’une classe préexistante pour en créer une nouvelle qui possédera des fonctionnalités supplémentaires ou différentes.\n",
    "</p>"
   ]
  },
  {
   "cell_type": "code",
   "execution_count": 12,
   "metadata": {},
   "outputs": [
    {
     "name": "stdout",
     "output_type": "stream",
     "text": [
      "nom : rectangle de longueur 30 et de largeur 15\n",
      "nom : carré de longueur 20 et de largeur 20\n"
     ]
    }
   ],
   "source": [
    "#Déclaration de la classe Rectangle\n",
    "class Rectangle:\n",
    "    def __init__(self, longueur=30, largeur=15):\n",
    "        self.L, self.l = longueur, largeur\n",
    "        self.nom = \"rectangle\"\n",
    "    def __str__(self):\n",
    "        return \"nom : {} de longueur {} et de largeur {}\".format(self.nom, self.L, self.l)\n",
    "#Déclaration de la classe Carre qui hérite de la classe Rectangle\n",
    "class Carre(Rectangle): # héritage simple\n",
    "    \"\"\"Sous-classe spécialisée de la super-classe Rectangle.\"\"\"\n",
    "    def __init__(self, cote=20):\n",
    "        # appel au constructeur de la super-classe de Carre :\n",
    "        Rectangle.__init__(self, cote, cote)\n",
    "        self.nom = \"carré\" # surcharge d’attribut\n",
    "#Utilisation des deux classes\n",
    "r = Rectangle()\n",
    "c = Carre()\n",
    "print(r) #appel de la méthode __str__()\n",
    "#nom : rectangle\n",
    "print(c)\n",
    "#nom : carré \n"
   ]
  },
  {
   "cell_type": "markdown",
   "metadata": {},
   "source": [
    "<strong><u>Remarque :</u></strong>\n",
    "<p>\n",
    "Deux méthodes spéciales très utiles pour tester si une classe hérite d’une autre, et qu’un objet est une instance d’une classe : \n",
    "</p>"
   ]
  },
  {
   "cell_type": "markdown",
   "metadata": {},
   "source": [
    "<ul>\n",
    "<li>issubclass(sous_classe, classe_mere)\n",
    "<li>isinstance(objet, classe)\n",
    "</ul>"
   ]
  },
  {
   "cell_type": "markdown",
   "metadata": {},
   "source": [
    "<p>\n",
    "Python, contrairement à d’autres langages comme Java et C#, autorise <strong>l’héritage multiple</strong>. La syntaxe est similaire à l’héritage simple, sauf qu'au lieu de préciser une seule classe mère, il faut préciser plusieurs classes séparées par des virgules :\n",
    "</p>"
   ]
  },
  {
   "cell_type": "markdown",
   "metadata": {},
   "source": [
    "<p><strong>\n",
    "class MaClasse(classe_mere1, classe_mere2) :<br>\n",
    "\t…..\n",
    "<strong></p>"
   ]
  },
  {
   "cell_type": "markdown",
   "metadata": {},
   "source": [
    "<p>\n",
    "La recherche des méthodes se fait dans l'ordre de la définition de la classe. Dans l'exemple ci-dessus, si on appelle une méthode d'un objet issu de MaClasse, on va d'abord chercher dans la classe MaClasse. Si la méthode n'est pas trouvée, on la cherche d'abord dans classe_mere1. Encore une fois, si la méthode n'est pas trouvée, on cherche dans toutes les classes mères de la classe classe_mere1, et ainsi de suite. Si on ne trouve pas la méthode, on la recherche dans classe_mere2 et ses classes mères successives.\n",
    "</p>\n",
    "<p>\n",
    "C'est donc l'ordre de définition des classes mères qui importe. On va chercher la méthode dans les classes mères de gauche à droite. Si on ne trouve pas la méthode dans une classe mère donnée, on remonte dans ses classes mères, et ainsi de suite.\n",
    "</p>"
   ]
  },
  {
   "cell_type": "markdown",
   "metadata": {},
   "source": [
    "<strong>Exercice 1</strong>\n",
    "<p>\n",
    "Considérer la classe Rectangle.\n",
    "</p>\n",
    "<ol>\n",
    "<li>Créez la méthode calculPerimetre() qui calcule le périmètre d’un objet rectangle.\n",
    "<li>Créer la méthode calculSurface() pour calculer la surface d’un objet rectangle.\n",
    "</ol>\n"
   ]
  },
  {
   "cell_type": "markdown",
   "metadata": {},
   "source": [
    "<strong>Exercice 2</strong>\n",
    "<ol>\n",
    "<li>Créez une nouvelle classe Atome avec les attributs x, y, z (qui contiennent les coordonnées atomique) et la méthode calculDistance(). Testez cette classe sur plusieurs exemples.\n",
    "<li>Améliorez la classe Atome avec de nouveaux attributs (par ex. : masse, charge, etc.) et de nouvelles méthodes (par ex. : calculCentreMasse(), calculRayonGyration()).\n",
    "</ol>"
   ]
  },
  {
   "cell_type": "markdown",
   "metadata": {},
   "source": [
    "<strong>Exercice 3</strong>\n",
    "<p>\n",
    "Soit la classe UML suivante, représentant un disque : \n",
    "</p>\n",
    "<p>\n",
    "<img src=\"images/disque.png\">\n",
    "</p>\n",
    "<p>\n",
    "<ol>\n",
    "<li> Implémenter la classe disque\n",
    "<li> Tester la classe disque\n",
    "</p>"
   ]
  },
  {
   "cell_type": "markdown",
   "metadata": {},
   "source": [
    "<strong>Exercice 4</strong>\n",
    "<p>\n",
    "Refaire la question de l'exercice précédent pour la classe Segment suivante : \n",
    "</p>\n",
    "<p>\n",
    "<img src=\"images/segment.png\">\n",
    "</p>"
   ]
  },
  {
   "cell_type": "markdown",
   "metadata": {},
   "source": [
    "<strong>Exercice 5</strong>\n",
    "<p>\n",
    "Créer la classe 'Point' suivante, puis l'utiliser dans les classes UnSegment et UnDisque ci-dessous :\n",
    "</p>\n",
    "<img src=\"images/point.png\">\n",
    "<p>\n",
    "</p>\n",
    "<p>\n",
    "<img src=\"images/unsegment.png\">\n",
    "</p>\n",
    "<p>\n",
    "<img src=\"images/undisque.png\">\n",
    "</p>"
   ]
  },
  {
   "cell_type": "markdown",
   "metadata": {},
   "source": [
    "<strong>Exercice 6</strong>\n",
    "<p>\n",
    "Dans le but de faire une gestion simplifiée d'une bibliothèque, on considère les éléments suivants : \n",
    "</p>\n",
    "<ul>\n",
    "<li>Un adhérent possède un code entier, un nom et une variable entière qui indique le nombre d'ouvrages empruntés. Ce nombre est initialisé à zéro. \n",
    "<li>Plusieurs types d'adhérents sont à gérer. Tout d'abord, un étudiant possède en plus la filière (de type texte) où il est inscrit. \n",
    "<li>Le professeur est un adhérent particulier caractérisé par sa spécialité de formation. \n",
    "<li>Enfin un externe qui possède en plus une information indiquant son établissement d'origine. \n",
    "</ul>\n",
    "<p>\n",
    "On désire calculer la cotisation de chaque adhérent, mais, pour un étudiant on désire en plus calculer la remise qu'on peut lui octroyer et qui est calculée en lui faisant une réduction de 2%. La cotisation est calculée sur la base du nombre d'ouvrages empruntés suivant le barème ci-dessous :\n",
    "</p>\n",
    "<p>\n",
    "<ul>\n",
    "<li>Nombre ouvrages <= 2 ==> 50 DH \n",
    "<li>2&lt;Nombre ouvrages <= 5 ==> 70 DH \n",
    "<li>Nombre ouvrages>5 ==> 120 DH \n",
    "</ul>\n",
    "</p>\n",
    "<p>\n",
    "<u><i>Travail à faire </i></u>\n",
    "</p>\n",
    "<ol>\n",
    "<li>Implémenter les classes à créer. Pour chaque classe, indiquer les attributs et les méthodes. Chaque classe doit avoir au moins un constructeur, des getters et des setters \n",
    "<li>Créer un autre fichier « main.py », pour créer un adhérent, un étudiant, un professeur et un externe. Faire appel à quelques méthodes \n",
    "</ol>"
   ]
  },
  {
   "cell_type": "markdown",
   "metadata": {},
   "source": [
    "<strong>Exercice 7</strong>\n",
    "<p>\n",
    "Le but de cet exercice, est de simuler la propagation des épidémies dans une population d'individus. Pour cela, on considère la classe «Individu » caractérisée par : \n",
    "</p>\n",
    "\n",
    "<u><i>Attributs</i> </u>\n",
    "\n",
    "<ul>\n",
    "<li>abs : abscisse, entier \n",
    "<li>ord : ordonné, entier \n",
    "<li>infecte : indique si un individu est infecté, booléen \n",
    "<li>rayon : rayon de couverture, sa valeur est la même pour tous les individus. Cet attribut (de type double) est initialisé à 10 \n",
    "</ul>\n",
    "\n",
    "<u><i>Méthodes </i></u>\n",
    "\n",
    "<ul>\n",
    "<li>Individu(abs, ord, infecte) : Constructeur initialisant l'individu avec les données passées en argument \n",
    "<li>Getters() et Setters() \n",
    "<li>distance(individu) : return la distance entre l'individu courant et l'individu passé comme argument. Exemple d'utilisation : individu1.distance(individu2) \n",
    "</ul>\n",
    "\n",
    "<u><i>Travail à faire <i></u>\n",
    "<ul>\n",
    "<li>créer la classe « Individu » \n",
    "<li>dans un fichier « main.py », \n",
    "<ul type=\"circle\">\n",
    "<li>Créer 3 Objets individu1(1, 2, true) , individu2 (0,0,false), individu3 (10, 30, false) \n",
    "<li>Modifier l'état infecté des individus 2 et 3 \n",
    "</ul>\n",
    "</ul>"
   ]
  },
  {
   "cell_type": "markdown",
   "metadata": {},
   "source": [
    "<strong>Exercice 8</strong>\n",
    "<p>\n",
    "L’objectif est de réaliser une application Python pour simuler une partie du trafic routier dans une autoroute. Pour cela, on suppose qu’un véhicule est caractérisé par trois entiers : un ID, une position, une vitesse courante. La vitesse maximale vmax, qui est la même pour tous les véhicules et elle est fixée à 120.\n",
    "</p>\n",
    "<ol>\n",
    "<li>Déclarer et définir la classe Vehiculede telle sorte qu’elle supporte les opérations suivantes : \n",
    "<ol type=\"a\">\n",
    "<li>Un constructeur par défaut, Vehicule(), permettant d’initialiser un véhicule à l’origine, la vitesse courante à 0. L’ID, quant à lui, est généré automatiquement sous forme de 10 (pour le premier véhicule), 20 (pour le deuxième), … \n",
    "<li>Un constructeur avec arguments, Vehicule(int pos, int vit), pour initialiser la position et la vitesse courante. L’ID est généré automatiquement, comme dans le constructeur par défaut \n",
    "<li>Une méthode accelerer() pour incrémenter la vitesse du véhicule à condition de ne pas dépasser la vitesse maximale, vmax. \n",
    "<li>Une méthode decelerer() pour décrémenter la vitesse du véhicule à condition de ne pas avoir une vitesse négative \n",
    "<li>Une méthode avancer() pour faire avancer le véhicule vers une nouvelle position. Cette nouvelle position est donnée par : pos pos + vitesse \n",
    "<li>Une méthode afficher() pour afficher les informations d’un véhicule sous la forme de : Le véhicule n° 20 se trouve à la position 15 et roule à 90 km/h \n",
    "</ol>\n",
    "\n",
    "<li>Dans un fichier main.py, créer deux véhicules, chacun avec un constructeur différent, ensuite faites appels aux méthodes accelerer(), decelerer(), avancer() et afficher() \n",
    "</ol>"
   ]
  },
  {
   "cell_type": "markdown",
   "metadata": {},
   "source": [
    "<strong>Exercice 9</strong>\n",
    "<ol>\n",
    "<li>Créer une classe de base Article. Un article possède :\n",
    "    <ul>\n",
    "    <li>deux attributs privés: \n",
    "        <ul>\n",
    "        <li>Nom : string \n",
    "        <li>Prix : double \n",
    "        </ul>\n",
    "    <li>Et les opérations publiques : \n",
    "        <ul>\n",
    "        <li>getPrix() : pour retourner le prix de l'article \n",
    "        <li>setPrix(double) : pour changer le prix de l'article \n",
    "        <li>afficher() : permet d’afficher le prix. \n",
    "        </ul>\n",
    "    </ul>        \n",
    "<li>Réaliser ensuite une classe ArticleEnSolde, dérivée de la classe Article. Cette sous-classe comprend une information additionnelle: \n",
    "    <ul>\n",
    "    <li>remise: pourcentage de réduction sur le prix d'origine \n",
    "    <li>setRemise(entier) pour changer la remise. \n",
    "    </ul>\n",
    "\n",
    "<li>La classe va redéfinir la méthode getPrix(), afin de tenir compte du solde. Elle va également redéfinir la méthode afficher(), afin que l'affichage donne également le pourcentage de remise sur le prix d'origine. \n",
    "</ol>"
   ]
  },
  {
   "cell_type": "markdown",
   "metadata": {},
   "source": [
    "<strong>Exercice 10</strong>\n",
    "<p>\n",
    "Dans une entreprise, on veut gérer plusieurs départements. Chacun est caractérisé par un Id et un nom. L’entreprise, quant à elle, possède un Id, un nom et une collection pour stocker plusieurs départements. \n",
    "</p>\n",
    "<ol>\n",
    "<li>Créer la classe département avec le constructeur et les getters/setters \n",
    "<li>Créer une classe Entreprise pour stocker les départements. Cette classe possède (en plus du\n",
    "constructeur et des getters/setters) les méthodes suivantes : \n",
    "    <ol type=\"a\">\n",
    "    <li>nbreDept(), retourne le nombre de départements de l’entreprise \n",
    "    <li>existeDept(ID), teste l’existence d’un département donné \n",
    "    <li>ajouteDept(dept), ajoute un département. Le département ne doit pas exister \n",
    "    <li>supprimeDept(dept), supprime un département. Le département doit exister \n",
    "    <li>afficheDep(), affiche tous les départements \n",
    "    </ol>\n",
    "<li>Créer le fichier Main.py, dans lequel : \n",
    "    <ol type=\"a\">\n",
    "    <li>Vous créez quelques départements \n",
    "    <li>Ajouter ces départements à l’entreprise \n",
    "    <li>Afficher tous les départements \n",
    "    <li>Tester l’existence d’un département donné\n",
    "    <li>Supprimer un département donné \n",
    "    <li>Afficher tous les départements \n",
    "    </ol>\n",
    "</ol>\n"
   ]
  },
  {
   "cell_type": "markdown",
   "metadata": {},
   "source": [
    "<strong>Exercice 11 </strong>\n",
    "<ol>\n",
    "<li>On demande d’implémenter une classe Ouvrage caractérisé par une cote (entier), un titre (texte), une liste des auteurs (collections de noms des auteurs), une année d’édition (texte) et une maison d’édition (texte). Cette classe permet d’offrir les possibilités suivantes : \n",
    "    <ol type=\"a\">\n",
    "    <li>Création d’un ouvrage \n",
    "    <li>Affichage d’un ouvrage \n",
    "    <li>Des accesseurs (méthodes get et set) permettant de gérer les différentes informations de l’ouvrage \n",
    "    <li>Une fonction booléenne permettant de déterminer si l’ouvrage traite un thème bien déterminé sous forme d’une chaîne à rechercher dans le titre de l’ouvrage. \n",
    "    </ol>\n",
    "<li>Ecrire une classe Biblio qui offre la possibilité de gérer une liste d’ouvrages. Elle possède un Id (entier), un nom (texte) et offre alors les possibilités suivantes : \n",
    "    <ol type=\"a\">\n",
    "    <li>Ajouter et supprimer un ouvrage \n",
    "    <li>Extraire l’ouvrage N° i \n",
    "    <li>Rechercher un ouvrage de cote donnée \n",
    "    <li>Afficher la liste des ouvrages écrits par un auteur bien déterminé \n",
    "    <li>Afficher la liste des ouvrages traitant un thème bien déterminé \n",
    "    </ol>\n",
    "</ol>"
   ]
  }
 ],
 "metadata": {
  "kernelspec": {
   "display_name": "Python 3",
   "language": "python",
   "name": "python3"
  },
  "language_info": {
   "codemirror_mode": {
    "name": "ipython",
    "version": 3
   },
   "file_extension": ".py",
   "mimetype": "text/x-python",
   "name": "python",
   "nbconvert_exporter": "python",
   "pygments_lexer": "ipython3",
   "version": "3.8.3"
  }
 },
 "nbformat": 4,
 "nbformat_minor": 2
}

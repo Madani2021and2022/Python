{
 "cells": [
  {
   "cell_type": "markdown",
   "metadata": {},
   "source": [
    "<table width='100%' border='0'>\n",
    "    <tr>\n",
    "        <td><img src='images/ucd.png' width='120'></td>\n",
    "        <td><img src='images/dept_inf.png' width='350'></td>\n",
    "        <td><img src='images/fs.png' width='120'></td>\n",
    "    </tr>\n",
    "</table>"
   ]
  },
  {
   "cell_type": "markdown",
   "metadata": {},
   "source": [
    "# Conteneurs standards : chaînes, listes, tuples, ensembles, dictionnaires et fichiers texte\n",
    "\n",
    "Email : <a href='mailto:madani.a@ucd.ac.ma'>madani.a@ucd.ac.ma</a>\n",
    "<img src='images/python.png'>\n"
   ]
  },
  {
   "cell_type": "markdown",
   "metadata": {},
   "source": [
    "<p>\n",
    "Un conteneur est un objet composite destiné à contenir d’autres objets. Python propose plusieurs conteneurs qu’on peut diviser en quatre catégories : \n",
    "</p>\n",
    "<ol>\n",
    "<li>les séquences\n",
    "<li>les tableaux associatifs\n",
    "<li>les ensembles\n",
    "<li>les fichiers texte.\n",
    "</ol>"
   ]
  },
  {
   "cell_type": "markdown",
   "metadata": {},
   "source": [
    "## 1. Séquences\n",
    "\n",
    "<p>\n",
    "Une séquence est un conteneur ordonné d’éléments indexés par des entiers. Python dispose de trois types prédéfinis de séquences : <strong>les chaînes de caractères</strong>, <strong>les listes</strong> et <strong>les tuples</strong>.\n",
    "</p>"
   ]
  },
  {
   "cell_type": "markdown",
   "metadata": {},
   "source": [
    "### 1.1 Chaîne de caractères\n",
    "<p>\n",
    "Une chaîne de caractères est une séquence non modifiable de caractères Unicode. Non modifiable signifie qu’une donnée, une fois créée en mémoire, ne pourra plus être changée ; toute transformation résultera en la création d’une nouvelle valeur distincte.\n",
    "</p>"
   ]
  },
  {
   "cell_type": "markdown",
   "metadata": {},
   "source": [
    "Une chaîne peut être manipulée par des opérateurs, des fonctions et des méthodes. Par exemple, on trouve les méthodes : <strong>upper(), lower(), title(), capitalize(), split(), find(), replace(), count(), join(), ...</strong>"
   ]
  },
  {
   "cell_type": "markdown",
   "metadata": {},
   "source": [
    "Les fonctions principales des chaînes de caractères sont : <strong>len(), int(), float()"
   ]
  },
  {
   "cell_type": "code",
   "execution_count": 2,
   "metadata": {},
   "outputs": [
    {
     "name": "stdout",
     "output_type": "stream",
     "text": [
      "1 Bonjour\n",
      "2 BON\n",
      "3 bon\n",
      "4 7\n",
      "5 False\n",
      "6 True\n"
     ]
    }
   ],
   "source": [
    "ch1=\"Bon\"\n",
    "ch2=\"jour\"\n",
    "message=ch1+ch2\n",
    "print(\"1\",message)\n",
    "maj=ch1.upper()\n",
    "print(\"2\",maj)\n",
    "minu=ch1.lower()\n",
    "print(\"3\",minu)\n",
    "n=len(ch1+ch2)\n",
    "print(\"4\",n)\n",
    "b1=ch1.isupper()\n",
    "print(\"5\",b1)\n",
    "b2=ch2.islower()\n",
    "print(\"6\",b2)\n"
   ]
  },
  {
   "cell_type": "markdown",
   "metadata": {},
   "source": [
    "Les chaînes peuvent être considérées comme des listes. "
   ]
  },
  {
   "cell_type": "code",
   "execution_count": 1,
   "metadata": {},
   "outputs": [
    {
     "name": "stdout",
     "output_type": "stream",
     "text": [
      "girafe tigre\n",
      "12\n",
      "a\n"
     ]
    }
   ],
   "source": [
    "animaux = \"girafe tigre\"\n",
    "print(animaux) #'girafe tigre'\n",
    "print(len(animaux)) #12\n",
    "print(animaux[3]) # affiche 'a'\n"
   ]
  },
  {
   "cell_type": "code",
   "execution_count": 4,
   "metadata": {},
   "outputs": [
    {
     "data": {
      "text/plain": [
       "['A, ', ', C, D']"
      ]
     },
     "execution_count": 4,
     "metadata": {},
     "output_type": "execute_result"
    }
   ],
   "source": [
    "x='A, B, C, D'\n",
    "t=x.split('B')\n",
    "t"
   ]
  },
  {
   "cell_type": "markdown",
   "metadata": {},
   "source": [
    "### 1.2 Listes\n",
    "\n",
    "<p>\n",
    "Une liste est une collection ordonnée et modifiable d’éléments éventuellement hétérogènes. Les éléments d’une liste sont séparés par des virgules, et sont entourés de crochets.\n",
    "</p>"
   ]
  },
  {
   "cell_type": "code",
   "execution_count": 4,
   "metadata": {},
   "outputs": [
    {
     "name": "stdout",
     "output_type": "stream",
     "text": [
      "[10, 17, 25, 38, 72]\n",
      "[17, 25]\n",
      "[12, 72, 25, 17, 10]\n",
      "3\n",
      "--------------------------------\n",
      "[11, 72, 25, 17, 10]\n",
      "[11, 14, 17, 2, 17, 10]\n",
      "10\n",
      "[11, 14, 17, 2, 17]\n",
      "2\n",
      "[11, 14, 17, 2, 17, 1, 2, 3]\n",
      "['jambon', 'sel', 'beurre']\n",
      "['jambon', 'salade']\n",
      "['jambon', 'mayonnaise', 'poulet', 'tomate']\n",
      "['jambon', 'mayonnaise', 'miel', 'poulet', 'tomate']\n"
     ]
    }
   ],
   "source": [
    "nombres = [17, 38, 10, 25, 72]\n",
    "nombres.sort()\n",
    "print(nombres) # [10, 17, 25, 38, 72]\n",
    "print(nombres[1:3])\n",
    "nombres.append(12)\n",
    "nombres.reverse()\n",
    "nombres.remove(38)\n",
    "print(nombres) # [12, 72, 25, 17, 10]\n",
    "print(nombres.index(17)) # 3\n",
    "print(\"--------------------------------\")\n",
    "nombres[0] = 11\n",
    "print(nombres)\n",
    "nombres[1:3] = [14, 17, 2]\n",
    "print(nombres)\n",
    "print(nombres.pop()) # 10\n",
    "print(nombres) # [11, 14, 17, 2, 17]\n",
    "print(nombres.count(17)) # 2\n",
    "nombres.extend([1, 2, 3])\n",
    "print(nombres) # [11, 14, 17, 2, 17, 1, 2, 3]\n",
    "mots = ['jambon', 'sel', 'miel', 'confiture', 'beurre']\n",
    "mots[2:4] = [] # effacement par affectation d’une liste vide\n",
    "print(mots) # [’jambon’, ’sel’, ’beurre’]\n",
    "mots[1:3] = ['salade']\n",
    "print(mots) # [’jambon’, ’salade’]\n",
    "mots[1:] = ['mayonnaise', 'poulet', 'tomate']\n",
    "print(mots) # [’jambon’, ’mayonnaise’, ’poulet’, ’tomate’]\n",
    "mots[2:2] = ['miel'] # insertion en 3è position\n",
    "print(mots) # [’jambon’, ’mayonnaise’, ’miel’, ’poulet’, ’tomate’]\n"
   ]
  },
  {
   "cell_type": "markdown",
   "metadata": {},
   "source": [
    "### 1.3 Tuples\n",
    "\n",
    "<p>\n",
    "Les tuples sont des collections ordonnées et non modifiables d’éléments éventuellement hétérogènes. Les éléments d’un tuples sont séparés par des virgules, et entourés de parenthèses. Les tuples s’utilisent comme les listes mais leur parcours est plus rapide.\n",
    "</p>"
   ]
  },
  {
   "cell_type": "markdown",
   "metadata": {},
   "source": [
    "Plusieurs façons sont disponibles pour créer un tuple :"
   ]
  },
  {
   "cell_type": "markdown",
   "metadata": {},
   "source": [
    "<ul><li>On peut créer un tuple en l'initialisant par des valeurs, comme dans l'exemple suivant :</ul>"
   ]
  },
  {
   "cell_type": "code",
   "execution_count": 5,
   "metadata": {},
   "outputs": [
    {
     "name": "stdout",
     "output_type": "stream",
     "text": [
      "<class 'tuple'>\n",
      "<class 'tuple'>\n"
     ]
    },
    {
     "data": {
      "text/plain": [
       "str"
      ]
     },
     "execution_count": 5,
     "metadata": {},
     "output_type": "execute_result"
    }
   ],
   "source": [
    "# Créer un tuple contenant plusieurs éléments\n",
    "t = ('a', 'b', 'c', 'd', 'e')\n",
    "print(type(t))\n",
    "# Créer un tuple contenant un seul élément\n",
    "t1 = ('a',)\n",
    "print(type(t1))\n",
    "# Une autre façon de créer un tuple contenant un seul élément\n",
    "t2 = ('a')\n",
    "type(t2)"
   ]
  },
  {
   "cell_type": "markdown",
   "metadata": {},
   "source": [
    "<ul><li>Une autre façon de construire un tuple est d'utiliser la fonction intégrée (constructeur) <strong>tuple</strong>. Sans argument, il crée un tuple vide:</li></ul>"
   ]
  },
  {
   "cell_type": "code",
   "execution_count": 6,
   "metadata": {},
   "outputs": [
    {
     "name": "stdout",
     "output_type": "stream",
     "text": [
      "()\n"
     ]
    }
   ],
   "source": [
    "t = tuple()\n",
    "print (t)"
   ]
  },
  {
   "cell_type": "markdown",
   "metadata": {},
   "source": [
    "<ul><li>Si l'argument est une séquence (string, liste ou tuple), le résultat est un tuple avec les éléments de la séquence:</li></ul>"
   ]
  },
  {
   "cell_type": "code",
   "execution_count": 7,
   "metadata": {},
   "outputs": [
    {
     "name": "stdout",
     "output_type": "stream",
     "text": [
      "('U', 'n', 'e', '-', 'l', 'i', 's', 't', 'e')\n"
     ]
    }
   ],
   "source": [
    "t = tuple('Une-liste')\n",
    "print(t)"
   ]
  },
  {
   "cell_type": "markdown",
   "metadata": {},
   "source": [
    "<ul><li>La plupart des opérateurs de liste fonctionnent également avec les tuples. On accède aux éléments en utilisant les crochets :</li></ul>"
   ]
  },
  {
   "cell_type": "code",
   "execution_count": 5,
   "metadata": {},
   "outputs": [
    {
     "name": "stdout",
     "output_type": "stream",
     "text": [
      "a\n",
      "('b', 'c')\n"
     ]
    }
   ],
   "source": [
    "t = ('a', 'b', 'c', 'd', 'e')\n",
    "print(t[0])\n",
    "print (t[1:3])"
   ]
  },
  {
   "cell_type": "markdown",
   "metadata": {},
   "source": [
    "<strong><u>Remarque</u></strong> :\n",
    "<p>\n",
    "Vous ne pouvez pas modifier les éléments d'un tuple, mais vous pouvez remplacer un tuple par un autre :\n",
    "</p>"
   ]
  },
  {
   "cell_type": "code",
   "execution_count": 9,
   "metadata": {},
   "outputs": [
    {
     "ename": "TypeError",
     "evalue": "'tuple' object does not support item assignment",
     "output_type": "error",
     "traceback": [
      "\u001b[1;31m---------------------------------------------------------------------------\u001b[0m",
      "\u001b[1;31mTypeError\u001b[0m                                 Traceback (most recent call last)",
      "\u001b[1;32m<ipython-input-9-7e674cdf20e6>\u001b[0m in \u001b[0;36m<module>\u001b[1;34m\u001b[0m\n\u001b[1;32m----> 1\u001b[1;33m \u001b[0mt\u001b[0m\u001b[1;33m[\u001b[0m\u001b[1;36m0\u001b[0m\u001b[1;33m]\u001b[0m \u001b[1;33m=\u001b[0m \u001b[1;34m'A'\u001b[0m\u001b[1;33m\u001b[0m\u001b[1;33m\u001b[0m\u001b[0m\n\u001b[0m",
      "\u001b[1;31mTypeError\u001b[0m: 'tuple' object does not support item assignment"
     ]
    }
   ],
   "source": [
    "t[0] = 'A'"
   ]
  },
  {
   "cell_type": "code",
   "execution_count": null,
   "metadata": {},
   "outputs": [],
   "source": [
    "t = ('A',) + t[1:]\n",
    "print(t)"
   ]
  },
  {
   "cell_type": "markdown",
   "metadata": {},
   "source": [
    "## 2. Tableaux associatifs\n",
    "\n",
    "<p>\n",
    "Un tableau associatif (dict pour dictionary) est un type de données permettant de stocker des couples <strong>\"clé : valeur\"</strong>, avec un accès très rapide à la valeur à partir de la clé. La clé ne pouvant être présente qu’une seule fois dans le tableau. Le tableau possède les caractéristiques suivantes :\n",
    "</p>\n",
    "<ul>\n",
    "<li>l’opérateur d’appartenance d’une clé (in) ;\n",
    "<li>la fonction taille (len()) donnant le nombre de couples stockés ;\n",
    "</ul>\n"
   ]
  },
  {
   "cell_type": "code",
   "execution_count": 1,
   "metadata": {},
   "outputs": [
    {
     "name": "stdout",
     "output_type": "stream",
     "text": [
      "{'nom': 'Alami', 'taille': 176}\n",
      "{'nom': 'Alami', 'taille': 176}\n",
      "{2: 4, 4: 16, 6: 36}\n",
      "{'nom': 'Alami', 'taille': 176}\n",
      "{'nom': 'Alami', 'taille': 176}\n"
     ]
    }
   ],
   "source": [
    "# insertion de clés/valeurs une à une\n",
    "d1 = {} # dictionnaire vide\n",
    "d1[\"nom\"] = \"Alami\"\n",
    "d1[\"taille\"] = 176\n",
    "print(d1) \n",
    "# définition en extension\n",
    "d2 = {\"nom\": \"Alami\", \"taille\": 176}\n",
    "print(d2) # {’nom’: 3, ’taille’: 176}\n",
    "# définition en intension\n",
    "d3 = {x: x**2 for x in (2, 4, 6)}\n",
    "print(d3) # {2: 4, 4: 16, 6: 36}\n",
    "# utilisation de paramètres nommés\n",
    "d4 = dict(nom=\"Alami\", taille=176)\n",
    "print(d4) # {’taille’: 176, ’nom’: 3}\n",
    "# utilisation d’une liste de couples clés/valeurs\n",
    "d5 = dict([(\"nom\", \"Alami\"), (\"taille\", 176)])\n",
    "print(d5) # {’nom’: 3, ’taille’: 176}\n"
   ]
  },
  {
   "cell_type": "markdown",
   "metadata": {},
   "source": [
    "## 3. Ensembles\n",
    "\n",
    "<p>\n",
    "Un ensemble (set) est une collection itérable non ordonnée d’éléments hachables distincts.\n",
    "</p>"
   ]
  },
  {
   "cell_type": "code",
   "execution_count": 1,
   "metadata": {},
   "outputs": [
    {
     "name": "stdout",
     "output_type": "stream",
     "text": [
      "X = {'d', 'a', 'c', 'b'}\n",
      "Y = {'d', 's', 'b'}\n",
      "True\n",
      "False\n",
      "{'a', 'c'}\n",
      "{'s'}\n",
      "{'a', 'c', 'b', 's', 'd'}\n",
      "{'b', 'd'}\n"
     ]
    }
   ],
   "source": [
    "X, Y = set('abcdcb'), set('sbds')\n",
    "print(\"X =\", X) # X = {’a’, ’c’, ’b’, ’d’}\n",
    "print(\"Y =\", Y) # Y = {’s’, ’b’, ’d’} : un seul élément ’s’\n",
    "print('c' in X) # True\n",
    "print('a' in Y) # False\n",
    "print(X - Y) # {’a’, ’c’}\n",
    "print(Y - X) # {’s’}\n",
    "print(X | Y) # {’a’, ’c’, ’b’, ’d’, ’s’}\n",
    "print(X & Y) # {’b’, ’d’} \n"
   ]
  },
  {
   "cell_type": "code",
   "execution_count": 3,
   "metadata": {},
   "outputs": [
    {
     "name": "stdout",
     "output_type": "stream",
     "text": [
      "{1, 2, 3, 4}\n",
      "{8, 1, 2, 9}\n",
      "{1, 2}\n",
      "{1, 2, 3, 4, 8, 9}\n",
      "{3, 4}\n"
     ]
    }
   ],
   "source": [
    "A={1,2,3,4}\n",
    "B={1,2,8,9}\n",
    "print(A)\n",
    "print(B)\n",
    "print(A&B)\n",
    "print(A|B)\n",
    "print(A-B)"
   ]
  },
  {
   "cell_type": "markdown",
   "metadata": {},
   "source": [
    "## 4. Fichiers texte\n",
    "\n",
    "<p>\n",
    "Un fichier texte est un moyen pour stocker des données de manière permanente sur disque. Le traitement d’un fichier passe par trois étapes essentielles : <strong>l’ouverture</strong>, <strong>le traitement</strong> et <strong>la fermeture</strong>.\n",
    "</p>"
   ]
  },
  {
   "cell_type": "markdown",
   "metadata": {},
   "source": [
    "Un fichier peut être ouvert en lecture (read), en écriture (write) ou en ajout (append). La syntaxe est la suivante :"
   ]
  },
  {
   "cell_type": "code",
   "execution_count": null,
   "metadata": {},
   "outputs": [],
   "source": [
    "f1 = open(\"monFichier_1\", \"r\", encoding='utf8') # ”r” mode lecture\n",
    "f2 = open(\"monFichier_2\", \"w\", encoding='utf8') # ”w” mode écriture\n",
    "f3 = open(\"monFichier_3\", \"a\") # ”a” mode ajout\n"
   ]
  },
  {
   "cell_type": "markdown",
   "metadata": {},
   "source": [
    "Le troisième argument de la fonction open() est optionnelle."
   ]
  },
  {
   "cell_type": "markdown",
   "metadata": {},
   "source": [
    "Une seule méthode de fermeture : f1.close()"
   ]
  },
  {
   "cell_type": "markdown",
   "metadata": {},
   "source": [
    "Le fichier sur disque est considéré comme une séquence de caractères qui sont ajoutés à la suite, au fur et à mesure que l’on écrit dans le fichier."
   ]
  },
  {
   "cell_type": "markdown",
   "metadata": {},
   "source": [
    "Méthodes d’écriture :"
   ]
  },
  {
   "cell_type": "code",
   "execution_count": 4,
   "metadata": {},
   "outputs": [
    {
     "name": "stdout",
     "output_type": "stream",
     "text": [
      "Les fichiers truc.txt et truc2.txt sont crées::::\n"
     ]
    }
   ],
   "source": [
    "f = open(\"truc2019.txt\", \"w\", encoding='utf8')\n",
    "s = 'toto\\n'\n",
    "f.write(s) # écrit la chaîne s dans f\n",
    "l = ['a\\n', 'b\\n', 'c\\n']\n",
    "f.writelines(l) # écrit les chaînes de la liste l dans f\n",
    "f.close()\n",
    "f2 = open(\"truc2_2019.txt\", \"w\", encoding='utf8')\n",
    "print(\"abcd\", file=f2) # utilisation de l’option file\n",
    "f2.close()\n",
    "print(\"Les fichiers truc.txt et truc2.txt sont crées::::\")"
   ]
  },
  {
   "cell_type": "markdown",
   "metadata": {},
   "source": [
    "En lecture, la séquence de caractères qui constitue le fichier est parcourue en commençant au début du fichier et en avançant au fur et à mesure des lectures."
   ]
  },
  {
   "cell_type": "markdown",
   "metadata": {},
   "source": [
    "Méthodes de lecture d’un fichier en entier :"
   ]
  },
  {
   "cell_type": "code",
   "execution_count": 5,
   "metadata": {
    "scrolled": true
   },
   "outputs": [
    {
     "name": "stdout",
     "output_type": "stream",
     "text": [
      "abcd\n",
      "\n",
      "['a\\n', 'b\\n', 'c\\n']\n"
     ]
    }
   ],
   "source": [
    "f = open(\"truc2_2019.txt\", \"r\", encoding='utf8')\n",
    "s = f.read() # lit tout le fichier --> chaîne\n",
    "print(s)\n",
    "f.close()\n",
    "f = open(\"truc2019.txt\", \"r\", encoding='utf8')\n",
    "s = f.readlines() # lit tout le fichier --> liste de chaînes\n",
    "print(s)\n",
    "f.close()\n"
   ]
  },
  {
   "cell_type": "markdown",
   "metadata": {},
   "source": [
    "Méthodes de lecture partielle d’un fichier:"
   ]
  },
  {
   "cell_type": "code",
   "execution_count": 16,
   "metadata": {},
   "outputs": [
    {
     "name": "stdout",
     "output_type": "stream",
     "text": [
      "toto\n",
      "\n",
      "abc\n"
     ]
    }
   ],
   "source": [
    "f = open(\"truc.txt\", \"r\", encoding='utf8')\n",
    "s = f.read(3) # lit au plus n octets --> chaîne\n",
    "s = f.readline() # lit la ligne suivante --> chaîne\n",
    "f.close()\n",
    "\n",
    "# Affichage des lignes d’un fichier une à une\n",
    "f = open(\"truc.txt\", encoding='utf8') # mode ”r” par défaut\n",
    "for ligne in f:\n",
    "    print(ligne)\n",
    "\n",
    "f.close()\n"
   ]
  },
  {
   "cell_type": "markdown",
   "metadata": {},
   "source": [
    "<strong>Exercice 1</strong>"
   ]
  },
  {
   "cell_type": "markdown",
   "metadata": {},
   "source": [
    "Utiliser la fonction range() pour afficher :\n",
    "<ul>\n",
    "<li>Les entiers de 0 à 3\n",
    "<li>Les entiers de 4 à 7\n",
    "<li>Les entiers de 2 à 8 par pas de 2\n",
    "</ul>"
   ]
  },
  {
   "cell_type": "code",
   "execution_count": 6,
   "metadata": {},
   "outputs": [
    {
     "name": "stdout",
     "output_type": "stream",
     "text": [
      "2\n",
      "4\n",
      "6\n",
      "8\n"
     ]
    }
   ],
   "source": [
    "for x in range(2,9,2):\n",
    "    print(x)"
   ]
  },
  {
   "cell_type": "code",
   "execution_count": null,
   "metadata": {},
   "outputs": [],
   "source": [
    "range(10)=range(0,10)"
   ]
  },
  {
   "cell_type": "markdown",
   "metadata": {},
   "source": [
    "<strong>Exercice 2</strong>"
   ]
  },
  {
   "cell_type": "markdown",
   "metadata": {},
   "source": [
    "Définir la liste : liste = [17, 38, 10, 25, 72, 50, 80, 12, 45], puis effectuer les actions suivantes :\n",
    "<ul>\n",
    "<li>Trier et afficher la liste\n",
    "<li>Ajouter l’élément 12 à la fin de la liste et afficher la liste\n",
    "<li>Ajouter l’élément 12 au milieu de la liste et afficher la liste\n",
    "<li>Ajouter l’élément 12 au début de la liste et afficher la liste\n",
    "<li>Renverser et afficher la liste\n",
    "<li>Afficher l’indice de l’élément 17\n",
    "<li>Enlever l’élément 30 et afficher la liste\n",
    "<li>Afficher la sous-liste du 2ème au 5ème élément\n",
    "<li>Afficher la sous-liste du 2ème au dernier élément\n",
    "<li>Afficher la sous-liste du début au 3ème élément\n",
    "<li>Vérifier l’appartenance de l’élément 25 dans la liste\n",
    "</ul>"
   ]
  },
  {
   "cell_type": "markdown",
   "metadata": {},
   "source": [
    "<strong>Exercice 3</strong>"
   ]
  },
  {
   "cell_type": "markdown",
   "metadata": {},
   "source": [
    "A partir des deux chaînes \"abc\" et \"de\", créer la liste [‘ad’, ‘ae’, ‘bd’, ‘be’, ‘cd’, ‘ce’]\n"
   ]
  },
  {
   "cell_type": "markdown",
   "metadata": {},
   "source": [
    "<strong>Exercice 4</strong>"
   ]
  },
  {
   "cell_type": "markdown",
   "metadata": {},
   "source": [
    "Définir deux ensembles X = {a, b, c, d} et Y = {s, b, d}, puis afficher les résultats suivants :\n",
    "<ul>\n",
    "\t<li>Les ensembles initiaux\n",
    "\t<li>Le test d’appartenance de ‘c’ à X\n",
    "\t<li>Le test d’appartenance de ‘a’ à Y\n",
    "\t<li>Les ensembles X – Y et Y – X\n",
    "\t<li>L’ensemble X∪Y (union)\n",
    "\t<li>L’ensemble X∩Y (intersection)\n",
    "</ul>"
   ]
  },
  {
   "cell_type": "markdown",
   "metadata": {},
   "source": [
    "<strong>Exercice 5</strong>"
   ]
  },
  {
   "cell_type": "markdown",
   "metadata": {},
   "source": [
    "Ecrire une fonction compterMots ayant un argument chaîne de caractères et renvoie un dictionnaire qui contient pour chaque mot sa fréquence.\n"
   ]
  },
  {
   "cell_type": "markdown",
   "metadata": {},
   "source": [
    "<strong>Exercice 6</strong>"
   ]
  },
  {
   "cell_type": "markdown",
   "metadata": {},
   "source": [
    "En utilisant une liste, implémenter une pile (LIFO). Pour cela, définir les fonctions suivantes :\n",
    "<ul>\n",
    "<li>pile : qui retourne une pile à partir d’une liste variable d’éléments passés en argument\n",
    "<li>empile : empile un élément en haut de la pile\n",
    "<li>depile : dépile un élément du haut de la liste\n",
    "</ul>"
   ]
  },
  {
   "cell_type": "markdown",
   "metadata": {},
   "source": [
    "<strong>Exercice 7</strong>"
   ]
  },
  {
   "cell_type": "markdown",
   "metadata": {},
   "source": [
    "De la même manière, implémenter une queue FIFO avec une liste. Les fonctions à considérer sont :\n",
    "<ul>\n",
    "<li>file : qui retourne une file à partir d’une liste variable d’éléments passés en argument\n",
    "<li>inserer : ajout d’un élément à la queue haut de la file\n",
    "<li>retirer : retire un élément de la tête de la file\n",
    "</ul>"
   ]
  }
 ],
 "metadata": {
  "kernelspec": {
   "display_name": "Python 3",
   "language": "python",
   "name": "python3"
  },
  "language_info": {
   "codemirror_mode": {
    "name": "ipython",
    "version": 3
   },
   "file_extension": ".py",
   "mimetype": "text/x-python",
   "name": "python",
   "nbconvert_exporter": "python",
   "pygments_lexer": "ipython3",
   "version": "3.8.3"
  }
 },
 "nbformat": 4,
 "nbformat_minor": 2
}

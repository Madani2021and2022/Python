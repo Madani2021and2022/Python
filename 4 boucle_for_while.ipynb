{
 "cells": [
  {
   "cell_type": "markdown",
   "metadata": {},
   "source": [
    "<table width='100%' border='0'>\n",
    "    <tr>\n",
    "        <td><img src='images/ucd.png' width='120'></td>\n",
    "        <td><img src='images/dept_inf.png' width='350'></td>\n",
    "        <td><img src='images/fs.png' width='120'></td>\n",
    "    </tr>\n",
    "</table>"
   ]
  },
  {
   "cell_type": "markdown",
   "metadata": {},
   "source": [
    "# Les boucles : FOR et WHILE\n",
    "\n",
    "Email : <a href='mailto:madani.a@ucd.ac.ma'>madani.a@ucd.ac.ma</a>\n",
    "<img src='images/python.png'>\n",
    "\n",
    "<p>\n",
    "Les langages de programmation (et par conséquent le langage Python) utilisent des boucles pour répéter un bloc d’instructions plusieurs fois. Python propose deux types de boucles : <strong>for</strong> et <strong>while.\n",
    "</p>"
   ]
  },
  {
   "cell_type": "code",
   "execution_count": 1,
   "metadata": {},
   "outputs": [
    {
     "name": "stdout",
     "output_type": "stream",
     "text": [
      "Exemple d’une boucle for pour afficher les nombres pairs entre 0 et 20\n",
      "0\n",
      "2\n",
      "4\n",
      "6\n",
      "8\n",
      "10\n",
      "12\n",
      "14\n",
      "16\n",
      "18\n",
      "20\n",
      "Exemple d’une boucle while pour afficher les nombres pairs entre 0 et 20\n",
      "0\n",
      "2\n",
      "4\n",
      "6\n",
      "8\n",
      "10\n",
      "12\n",
      "14\n",
      "16\n",
      "18\n",
      "20\n"
     ]
    }
   ],
   "source": [
    "#Exemple d’une boucle for pour afficher les nombres pairs entre 0 et 20\n",
    "print(\"Exemple d’une boucle for pour afficher les nombres pairs entre 0 et 20\")\n",
    "for x in range(21) :\n",
    "    if x%2==0 :\n",
    "        print (x)\n",
    "\"\"\"\n",
    "Exemple d’une boucle while pour afficher les nombres pairs entre 0 et 20\n",
    "\"\"\"\n",
    "print(\"Exemple d’une boucle while pour afficher les nombres pairs entre 0 et 20\")\n",
    "j=0\n",
    "while j<=20:\n",
    "    print (j)\n",
    "    j+=2 #j=j+2\n"
   ]
  },
  {
   "cell_type": "markdown",
   "metadata": {},
   "source": [
    "<p>\n",
    "La boucle for ne s’applique que sur une collection de valeurs. Ex. tuples, listes,… (voir plus tard). On peut définir des boucles indicées en générant une collection de valeurs avec range().\n",
    "</p>\n",
    "<p>\n",
    "Pour quitter une boucle (for et while) de manière prématurée Python utilise l’instruction <strong>break</strong>.\n",
    "</p>\n",
    "<p>\n",
    "Pour passer immédiatement à l’itération suivante de la boucle for ou while en cours contenant l’instruction on utilise l’instruction <strong>continue</strong>.\n",
    "</p>\n",
    "\n",
    "## Exercice 1\n",
    "\n",
    "<p>\n",
    "Etant un tableau d’entiers (liste d’entiers). Ecrire un script permettant d’afficher le maximum, le minimum et la moyenne des éléments de ce tableau\n",
    "</p>\n",
    "\n",
    "## Exercice 2\n",
    "\n",
    "<p>\n",
    "En utilisant une liste de liste pour simuler une matrice, écrire un programme pour afficher la somme, la différence et le produit de deux matrices\n",
    "</p>\n",
    "\n",
    "## Exercice 3\n",
    "\n",
    "<p>\n",
    "Initialiser deux entiers a et b par les valeurs 0 et 10 respectivement.\n",
    "</p>\n",
    "\n",
    "<ul>\n",
    "<li>Ecrire une boucle permettant d’afficher en incrémentant la valeur de a tant qu’elle reste inférieure à celle de b.\n",
    "<li>Ecrire une autre boucle décrémentant la valeur de b et affichant sa valeur si elle est impair. Boucler tant que b n’est pas nul.\n",
    "</ul>\n",
    "\n",
    "## Exercice 4\n",
    "\n",
    "<p>\n",
    "Ecrire un script permettant de saisir la note d’un étudiant. La note doit être comprise entre 0 et 20.\n",
    "</p>\n",
    "\n",
    "## Exercice 5\n",
    "\n",
    "<p>\n",
    "En utilisant la boucle for, afficher chaque caractère d’une chaîne de caractères.\n",
    "</p>\n",
    "\n",
    "## Exercice 6\n",
    "\n",
    "<p>\n",
    "Afficher les entiers entre 0 et 20 (bornes compris) par pas de 2 en utilisant l’instruction range() et la boucle for\n",
    "</p>\n",
    "\n",
    "## Exercice 7\n",
    "\n",
    "<p>\n",
    "Utiliser l’instruction break pour interrompre une boucle for d’affichage des entiers de 1 à 10 compris, lorsque la variable\n",
    "de boucle vaut 5\n",
    "</p>\n",
    "\n",
    "## Exercice 8\n",
    "\n",
    "<p>\n",
    "Utiliser l’instruction continue pour modifier une boucle for d’affichage de tous les entiers de 1 à 10 compris, sauf lorsque la variable de la boucle vaut 5.\n",
    "</p>"
   ]
  }
 ],
 "metadata": {
  "kernelspec": {
   "display_name": "Python 3",
   "language": "python",
   "name": "python3"
  },
  "language_info": {
   "codemirror_mode": {
    "name": "ipython",
    "version": 3
   },
   "file_extension": ".py",
   "mimetype": "text/x-python",
   "name": "python",
   "nbconvert_exporter": "python",
   "pygments_lexer": "ipython3",
   "version": "3.8.3"
  }
 },
 "nbformat": 4,
 "nbformat_minor": 2
}

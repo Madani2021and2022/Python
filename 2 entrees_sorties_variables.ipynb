{
 "cells": [
  {
   "cell_type": "markdown",
   "metadata": {},
   "source": [
    "<table width='100%' border='0'>\n",
    "    <tr>\n",
    "        <td><img src='image/ucd.png' width='120'></td>\n",
    "        <td><img src='image/dept_inf.png' width='350'></td>\n",
    "        <td><img src='image/fs.png' width='120'></td>\n",
    "    </tr>\n",
    "</table>"
   ]
  },
  {
   "cell_type": "markdown",
   "metadata": {},
   "source": [
    "# Les entrées/sorties et les variables\n",
    "\n",
    "Email : <a href='mailto:madani.a@ucd.ac.ma'>madani.a@ucd.ac.ma</a>\n",
    "<img src='image/python.png'>\n",
    "\n",
    "\n",
    "## Identificateur\n",
    "\n",
    "<p>\n",
    "Comme tout langage de programmation, Python utilise des identifiants pour nommer ses objets. Un identifiant commence par une lettre ou un caractère souligné, suivi par d’autres lettres, chiffres ou un caractère souligné. \n",
    "</p>\n",
    "<p>\n",
    "Les identifiants sont sensibles à la casse et ne doivent pas être des mots réservés. La version 3.1.2 de Python compte 33 mots clés, qui sont :\n",
    "</p>\n",
    "<p>\n",
    "<div align=\"left\">\n",
    "<table border=\"1\" width=\"80%\">\n",
    "<tr><td>and</td><td>del</td><td>from</td><td>None</td><td>true</td><td>As</td><td>elif</td><td>global</td><td>nonlocal</td><td>try</td><td>assert</td></tr>\n",
    "<tr><td>else</td><td>If</td><td>not</td><td>While</td><td>break</td><td>except</td><td>import</td><td>or</td><td>With</td><td>class</td><td>False</td></tr>\n",
    "<tr><td>in</td><td>pass</td><td>yield</td><td>Continue</td><td>finally</td><td>is</td><td>raise</td><td>def</td><td>For</td><td>lambda</td><td>return</td></tr>\n",
    "</table>\n",
    "</div>\n",
    "</p>"
   ]
  },
  {
   "cell_type": "markdown",
   "metadata": {},
   "source": [
    "## Expressions\n",
    "<p>\n",
    "Une expression est une portion de code que l’interpréteur Python peut évaluer pour obtenir une valeur. Les expressions peuvent être simples ou complexes. Elles sont formées d’une combinaison de littéraux, d’identifiants et d’opérateurs. \n",
    "</p>"
   ]
  },
  {
   "cell_type": "code",
   "execution_count": 4,
   "metadata": {},
   "outputs": [
    {
     "name": "stdout",
     "output_type": "stream",
     "text": [
      "11.0\n"
     ]
    }
   ],
   "source": [
    "a=10\n",
    "b=11\n",
    "c=12\n",
    "moyenne=(a+b+c)/3\n",
    "print (moyenne)"
   ]
  },
  {
   "cell_type": "code",
   "execution_count": 2,
   "metadata": {},
   "outputs": [
    {
     "name": "stdout",
     "output_type": "stream",
     "text": [
      "11.166666666666666\n",
      "<class 'float'>\n"
     ]
    }
   ],
   "source": [
    "#Exemple d'une expression\n",
    "a, b, c = 10.5, 11, 12\n",
    "moyenne = (a+b+c)/3\n",
    "print (moyenne)\n",
    "print(type(a))"
   ]
  },
  {
   "cell_type": "markdown",
   "metadata": {},
   "source": [
    "## Opérateurs\n",
    "<p>\n",
    "Les opérateurs sont le fondement même du traitement des opérations mathématiques et comparatives de n'importe quel langage. Le langage Python ne fait pas exception.\n",
    "</p>"
   ]
  },
  {
   "cell_type": "markdown",
   "metadata": {},
   "source": [
    "### Les opérateurs de comparaison\n",
    "<p>\n",
    "<table border=\"1\" width=\"60%\">\n",
    "<tr><td>Opérateur</td><td>Description</td></tr>\n",
    "<tr><td>==</td><td>Egalité</td></tr>\n",
    "<tr><td>!=</td><td>Différence</td></tr>\n",
    "<tr><td>></td><td>\tPlus grand que</td></tr>\n",
    "<tr><td>>=</td><td>Plus grand ou égal que</td></tr>\n",
    "<tr><td><</td><td>Plus petit que</td></tr>\n",
    "<tr><td><=</td><td>Plus petit ou égal que</td></tr>\n",
    "</table>\n",
    "</p>"
   ]
  },
  {
   "cell_type": "markdown",
   "metadata": {},
   "source": [
    "### Les opérateurs de calcul\n",
    "<p>\n",
    "<table border=\"1\" width=\"80%\" align=\"center\">\n",
    "<tr><td><b>Opérateur</b></td><td><b>Description</b></td></tr>\n",
    "<tr><td>+</td><td>Addition</td></tr>\n",
    "<tr><td>-</td><td>Soustraction</td></tr>\n",
    "<tr><td>*</td><td>Multiplication</td></tr>\n",
    "<tr><td>/</td><td>Division</td></tr>\n",
    "<tr><td>//</td><td>Division entière</td></tr>\n",
    "<tr><td>%</td><td>Reste d'une division (modulo)t</td></tr>\n",
    "<tr><td>&#42; &#42;</td><td>Exposant</td></tr>\n",
    "</table>\n",
    "</p>"
   ]
  },
  {
   "cell_type": "code",
   "execution_count": 6,
   "metadata": {},
   "outputs": [
    {
     "name": "stdout",
     "output_type": "stream",
     "text": [
      "16\n"
     ]
    }
   ],
   "source": [
    "a=2\n",
    "print(a**4)"
   ]
  },
  {
   "cell_type": "markdown",
   "metadata": {},
   "source": [
    "### Les opérateurs de chaine de caractères\n",
    "<p>\n",
    "<table border=\"1\" width=\"80%\">\n",
    "<tr><td>Opérateur</td><td>Description</td></tr>\n",
    "<tr><td>sous-chaine in chaine</td><td>Indique si une sous-chaine de caractères est contenue dans une chaine de caractères</td></tr>\n",
    "<tr><td>chaine1 + chaine2</td><td>Effectue la concaténation de chaines de caractères</td></tr>\n",
    "<tr><td>chaine *nombrerépétition</td><td>Effectue une répétition de la chaine de caractères</td></tr>\n",
    "<tr><td>u\"message\"</td><td>Définit une chaine de caractères de format Unicode</td></tr>\n",
    "\n",
    "<tr><td>chaine1 == chaine2</td><td>Egalité</td></tr>\n",
    "<tr><td>chaine1 != chaine2</td><td>Différence</td></tr>\n",
    "<tr><td>chaine1 > chaine2</td><td>Plus grand que</td></tr>\n",
    "<tr><td>chaine1 >= chaine2</td><td>Plus grand ou égal que</td></tr>\n",
    "<tr><td>chaine1 < chaine2</td><td>Plus petit que</td></tr>\n",
    "<tr><td>chaine1 <= chaine2\t</td><td>Plus petit ou égal que</td></tr>\n",
    "</table>\n",
    "</p>"
   ]
  },
  {
   "cell_type": "code",
   "execution_count": 4,
   "metadata": {},
   "outputs": [
    {
     "name": "stdout",
     "output_type": "stream",
     "text": [
      "bonjourbonjourbonjour\n",
      "False\n",
      "False\n",
      "True\n"
     ]
    }
   ],
   "source": [
    "ch1=\"Bonjour\"\n",
    "ch2=\"bonjour\"\n",
    "print(ch2*3)\n",
    "print(ch2 in ch1)\n",
    "print(ch1 in ch2)\n",
    "print(ch1<ch2)"
   ]
  },
  {
   "cell_type": "markdown",
   "metadata": {},
   "source": [
    "## Entrées des données\n",
    "<p>\n",
    "Il s’agit de réaliser une saisie au clavier : la fonction standard <strong>input()</strong> interrompt le programme, affiche une éventuelle invite et attend que l’utilisateur entre une donnée et la valide par la touche \"Entrée\".\n",
    "</p>\n",
    "<p>\n",
    "La fonction standard input() effectue toujours une saisie en mode texte (la saisie est une chaîne) qu’on doit ensuite transtyper  (changer le type) :\n",
    "</p>\n"
   ]
  },
  {
   "cell_type": "code",
   "execution_count": null,
   "metadata": {},
   "outputs": [
    {
     "name": "stdout",
     "output_type": "stream",
     "text": [
      "Entrez le nombre d’étudiants : 30\n",
      "30 est de type <class 'str'>\n",
      "\n",
      "Entrez un flottant : 13\n",
      "13.0 est de type <class 'float'>\n"
     ]
    }
   ],
   "source": [
    "nb_etudiant = input(\"Entrez le nombre d’étudiants : \")\n",
    "print(nb_etudiant,'est de type',type(nb_etudiant)) # <class ’str’> \n",
    "(c’est une chaîne)\n",
    "f1 = input(\"\\nEntrez un flottant : \")\n",
    "f2 = float(f1) # transtypage en flottant\n",
    "print(f2,'est de type',type(f2))\n",
    "# ou plus brièvement :\n",
    "f2 = float(input(\"Entrez un autre flottant : \")) #forcer le typage d’une variable\n",
    "print(f2,'est de type',type(f2)) # <class ’float’> #Connaître le type d’une variable\n",
    "ch = str(f2)\n",
    "print(ch,'est de type',type(ch))"
   ]
  },
  {
   "cell_type": "markdown",
   "metadata": {},
   "source": [
    "<p>\n",
    "Les fonctions de transtypage sont <b>int()</b> et <b>float()</b> pour convertir une chaîne de caractères en un nombre (entier ou réel respectivement). La fonction <b>str()</b> permet de convertir un nombre en une chaîne de caractères, alors que <b>bool()</b> est utilisée pour convertir un nombre ou une chaîne en un booléen.\n",
    "</p>\n"
   ]
  },
  {
   "cell_type": "markdown",
   "metadata": {},
   "source": [
    "\n",
    "## Sortie des résultats\n",
    "<p>\n",
    "En mode console, le fait de saisir le nom d’une variable Python affiche sa valeur, mais dans un script la fonction <strong>print()</strong> reste indispensable pour afficher des données.\n",
    "</p>\n",
    "<p>\n",
    "La fonction <strong>format()</strong> associée à <strong>print()</strong> est utilisée pour formater les données afin d’avoir une meilleure organisation de l’affichage des résultats.\n",
    "</p>   "
   ]
  },
  {
   "cell_type": "code",
   "execution_count": 3,
   "metadata": {},
   "outputs": [
    {
     "name": "stdout",
     "output_type": "stream",
     "text": [
      "M.  Assim  a  32  ans\n",
      "M. Assim a 32 ans\n",
      "M. Assim a 32 ans\n",
      "M. Assim a 32 ans\n",
      "L'age est 32 ans de M.Assim \n"
     ]
    }
   ],
   "source": [
    "age= 32\n",
    "nom = \"Assim\"\n",
    "print(\"M. \",nom,\" a \",age,\" ans\")\n",
    "print(\"M. \"+nom+\" a \"+str(age)+\" ans\")\n",
    "print (\"M. {} a {} ans\".format(nom, age)) #respecter l'ordre des variables nom et age\n",
    "print (\"M. {0} a {1} ans\".format(nom, age))#indiquer explicitement l'ordre d'affichage\n",
    "print (\"L'age est {1} ans de M.{0} \".format(nom, age))#indiquer explicitement l'ordre d'affichage"
   ]
  },
  {
   "cell_type": "code",
   "execution_count": 5,
   "metadata": {},
   "outputs": [
    {
     "name": "stdout",
     "output_type": "stream",
     "text": [
      "a=1.000000, b=3 et c=0.333\n"
     ]
    }
   ],
   "source": [
    "a = 1\n",
    "b = 3\n",
    "c = a/b\n",
    "print (\"a={0:f}, b={1:d} et c={2:.3f}\".format(a, b, c))"
   ]
  },
  {
   "cell_type": "code",
   "execution_count": 1,
   "metadata": {},
   "outputs": [
    {
     "name": "stdout",
     "output_type": "stream",
     "text": [
      "******1\n",
      "---1---\n",
      "1------\n"
     ]
    }
   ],
   "source": [
    "a=1\n",
    "print(\"{0:*>7d}\".format(a)) # > :aligné à droite, < :aligné à gauche, ^ :centré\n",
    "print(\"{0:-^7d}\".format(a)) # > :aligné à droite, < :aligné à gauche, ^ :centré\n",
    "print(\"{0:-<7d}\".format(a)) # > :aligné à droite, < :aligné à gauche, ^ :centré"
   ]
  },
  {
   "cell_type": "markdown",
   "metadata": {},
   "source": [
    "# Applications"
   ]
  },
  {
   "cell_type": "markdown",
   "metadata": {},
   "source": [
    "## Exercice 1\n",
    "<p>\n",
    "Ecrire un script permettant d’affecter aux variables <u>temps</u> et <u>distances</u> les valeurs 2.75 et 125.5 pour calculer et afficher la valeur de la <u>vitesse</u>.\n",
    "</p>\n",
    "<p>\n",
    "Améliorer l’affichage précédent en se limitant le nombre de chiffres après la virgule à deux\n",
    "</p>\n"
   ]
  },
  {
   "cell_type": "markdown",
   "metadata": {},
   "source": [
    "## Exercice 2\n",
    "<p>\n",
    "Etant donné deux entiers saisis au clavier, écrire un script pour les permuter et les afficher\n",
    "</p> "
   ]
  },
  {
   "cell_type": "markdown",
   "metadata": {},
   "source": [
    "## Exercice 3\n",
    "<p>\n",
    "A partir de trois notes et de leurs coefficients respectifs, calculer puis afficher la moyenne avec deux chiffres après la virgule.\n",
    "</p>"
   ]
  }
 ],
 "metadata": {
  "kernelspec": {
   "display_name": "Python 3",
   "language": "python",
   "name": "python3"
  },
  "language_info": {
   "codemirror_mode": {
    "name": "ipython",
    "version": 3
   },
   "file_extension": ".py",
   "mimetype": "text/x-python",
   "name": "python",
   "nbconvert_exporter": "python",
   "pygments_lexer": "ipython3",
   "version": "3.8.3"
  }
 },
 "nbformat": 4,
 "nbformat_minor": 2
}

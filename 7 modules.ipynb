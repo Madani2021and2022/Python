{
 "cells": [
  {
   "cell_type": "markdown",
   "metadata": {},
   "source": [
    "<table width='100%' border='0'>\n",
    "    <tr>\n",
    "        <td><img src='images/ucd.png' width='120'></td>\n",
    "        <td><img src='images/dept_inf.png' width='350'></td>\n",
    "        <td><img src='images/fs.png' width='120'></td>\n",
    "    </tr>\n",
    "</table>"
   ]
  },
  {
   "cell_type": "markdown",
   "metadata": {},
   "source": [
    "# Modules\n",
    "\n",
    "Email : <a href='mailto:madani.a@ucd.ac.ma'>madani.a@ucd.ac.ma</a>\n",
    "<img src='images/python.png'>"
   ]
  },
  {
   "cell_type": "markdown",
   "metadata": {},
   "source": [
    "<p>\n",
    "Un module est un fichier d’extension \".py\" dans lequel on peut regrouper des variables, des fonctions et des classes traitant des problèmes de même nature ou manipulant le même type d’objet.\n",
    "</p>\n",
    "<p>\n",
    "Des modules standards prêts à l’emploi sont livrés avec la distribution Python. Par exemple, <strong>random, math, os</strong>, etc. Ils sont visibles dans le répertoire <strong>\"lib\"</strong> de Python.\n",
    "</p>\n",
    "<p>\n",
    "Pour charger les fonctions d’un module dans un autre module, une autre fonction ou dans un programme principal, on utilise l’une des commandes suivantes :\n",
    "</p>"
   ]
  },
  {
   "cell_type": "markdown",
   "metadata": {},
   "source": [
    "<ul>\n",
    "<li><strong>import</strong> nom_du_module\n",
    "<li><strong>import</strong> nom_du_module as <strong>alias</strong>\n",
    "<li><strong>from</strong> nom_du_module <strong>import</strong> nom_de_la_methode\n",
    "<li><strong>form</strong> nom_du_module <strong>import *</strong>\n",
    "</ul>"
   ]
  },
  {
   "cell_type": "markdown",
   "metadata": {},
   "source": [
    "Les fonctions importées sont chargées en mémoire (RAM). S’il y a une confusion de noms, les plus récentes écrasent les anciennes. Par exemple :"
   ]
  },
  {
   "cell_type": "code",
   "execution_count": 3,
   "metadata": {},
   "outputs": [
    {
     "name": "stdout",
     "output_type": "stream",
     "text": [
      "Log: -0.8342502788588289 et le carré du log: 0.6959735277760337\n"
     ]
    }
   ],
   "source": [
    "#importer les modules math et random\n",
    "import math, random\n",
    "#générer un nombre réel compris entre 0 et 1\n",
    "value = random.random()\n",
    "#calculer le carré de son logarithme\n",
    "logv= math.log(value)\n",
    "abslog= math.pow(logv,2.0)\n",
    "#affichage\n",
    "print(\"Log:\",logv,'et le carré du log:',abslog)"
   ]
  },
  {
   "cell_type": "markdown",
   "metadata": {},
   "source": [
    "Pour ne pas préfixer les fonctions importées, on utilise <strong>from nom_module import fonction1, …</strong>, au lieu de <strong>import nom_module</strong>. Par exemple :"
   ]
  },
  {
   "cell_type": "code",
   "execution_count": 6,
   "metadata": {},
   "outputs": [
    {
     "name": "stdout",
     "output_type": "stream",
     "text": [
      "16.0\n",
      "16.0\n"
     ]
    }
   ],
   "source": [
    "import math\n",
    "print(math.pow(4, 2))\n",
    "from math import pow\n",
    "print(pow(4, 2))"
   ]
  },
  {
   "cell_type": "markdown",
   "metadata": {},
   "source": [
    "On peut vider de la mémoire un module chargé avec l’instruction <strong>del</strong> comme-suit :\n",
    "<p>\n",
    "<strong>del nom_du_module</strong>\n",
    "</p>"
   ]
  },
  {
   "cell_type": "code",
   "execution_count": 6,
   "metadata": {},
   "outputs": [
    {
     "name": "stdout",
     "output_type": "stream",
     "text": [
      "16.0\n"
     ]
    },
    {
     "ename": "NameError",
     "evalue": "name 'math' is not defined",
     "output_type": "error",
     "traceback": [
      "\u001b[1;31m---------------------------------------------------------------------------\u001b[0m",
      "\u001b[1;31mNameError\u001b[0m                                 Traceback (most recent call last)",
      "\u001b[1;32m<ipython-input-6-a05dbd6d942d>\u001b[0m in \u001b[0;36m<module>\u001b[1;34m()\u001b[0m\n\u001b[0;32m      2\u001b[0m \u001b[0mprint\u001b[0m\u001b[1;33m(\u001b[0m\u001b[0mmath\u001b[0m\u001b[1;33m.\u001b[0m\u001b[0mpow\u001b[0m\u001b[1;33m(\u001b[0m\u001b[1;36m4\u001b[0m\u001b[1;33m,\u001b[0m\u001b[1;36m2\u001b[0m\u001b[1;33m)\u001b[0m\u001b[1;33m)\u001b[0m\u001b[1;33m\u001b[0m\u001b[0m\n\u001b[0;32m      3\u001b[0m \u001b[1;32mdel\u001b[0m \u001b[0mmath\u001b[0m\u001b[1;33m\u001b[0m\u001b[0m\n\u001b[1;32m----> 4\u001b[1;33m \u001b[0mprint\u001b[0m\u001b[1;33m(\u001b[0m\u001b[0mmath\u001b[0m\u001b[1;33m.\u001b[0m\u001b[0mpow\u001b[0m\u001b[1;33m(\u001b[0m\u001b[1;36m4\u001b[0m\u001b[1;33m,\u001b[0m\u001b[1;36m3\u001b[0m\u001b[1;33m)\u001b[0m\u001b[1;33m)\u001b[0m\u001b[1;33m\u001b[0m\u001b[0m\n\u001b[0m",
      "\u001b[1;31mNameError\u001b[0m: name 'math' is not defined"
     ]
    }
   ],
   "source": [
    "import math\n",
    "print(math.pow(4,2))\n",
    "del math\n",
    "print(math.pow(4,3))"
   ]
  },
  {
   "cell_type": "markdown",
   "metadata": {},
   "source": [
    "Pour avoir l’aide sur un module ou une méthode d’un module, il suffit d’utiliser la fonction <strong>help()</strong> :"
   ]
  },
  {
   "cell_type": "markdown",
   "metadata": {},
   "source": [
    "<strong>\n",
    "<ul>\n",
    "<li>help(nom_du_module)\n",
    "<li>help(nom_du_module.methode)\n",
    "</ul>\n",
    "</strong>"
   ]
  },
  {
   "cell_type": "code",
   "execution_count": 13,
   "metadata": {},
   "outputs": [
    {
     "name": "stdout",
     "output_type": "stream",
     "text": [
      "Help on built-in function log10 in module math:\n",
      "\n",
      "log10(x, /)\n",
      "    Return the base 10 logarithm of x.\n",
      "\n",
      "Help on built-in function log in module math:\n",
      "\n",
      "log(...)\n",
      "    log(x, [base=math.e])\n",
      "    Return the logarithm of x to the given base.\n",
      "    \n",
      "    If the base not specified, returns the natural logarithm (base e) of x.\n",
      "\n"
     ]
    }
   ],
   "source": [
    "import math\n",
    "help(math.log10)\n",
    "help(math.log)"
   ]
  },
  {
   "cell_type": "code",
   "execution_count": 3,
   "metadata": {},
   "outputs": [
    {
     "name": "stdout",
     "output_type": "stream",
     "text": [
      "Help on built-in module math:\n",
      "\n",
      "NAME\n",
      "    math\n",
      "\n",
      "DESCRIPTION\n",
      "    This module is always available.  It provides access to the\n",
      "    mathematical functions defined by the C standard.\n",
      "\n",
      "FUNCTIONS\n",
      "    acos(...)\n",
      "        acos(x)\n",
      "        \n",
      "        Return the arc cosine (measured in radians) of x.\n",
      "    \n",
      "    acosh(...)\n",
      "        acosh(x)\n",
      "        \n",
      "        Return the inverse hyperbolic cosine of x.\n",
      "    \n",
      "    asin(...)\n",
      "        asin(x)\n",
      "        \n",
      "        Return the arc sine (measured in radians) of x.\n",
      "    \n",
      "    asinh(...)\n",
      "        asinh(x)\n",
      "        \n",
      "        Return the inverse hyperbolic sine of x.\n",
      "    \n",
      "    atan(...)\n",
      "        atan(x)\n",
      "        \n",
      "        Return the arc tangent (measured in radians) of x.\n",
      "    \n",
      "    atan2(...)\n",
      "        atan2(y, x)\n",
      "        \n",
      "        Return the arc tangent (measured in radians) of y/x.\n",
      "        Unlike atan(y/x), the signs of both x and y are considered.\n",
      "    \n",
      "    atanh(...)\n",
      "        atanh(x)\n",
      "        \n",
      "        Return the inverse hyperbolic tangent of x.\n",
      "    \n",
      "    ceil(...)\n",
      "        ceil(x)\n",
      "        \n",
      "        Return the ceiling of x as an Integral.\n",
      "        This is the smallest integer >= x.\n",
      "    \n",
      "    copysign(...)\n",
      "        copysign(x, y)\n",
      "        \n",
      "        Return a float with the magnitude (absolute value) of x but the sign \n",
      "        of y. On platforms that support signed zeros, copysign(1.0, -0.0) \n",
      "        returns -1.0.\n",
      "    \n",
      "    cos(...)\n",
      "        cos(x)\n",
      "        \n",
      "        Return the cosine of x (measured in radians).\n",
      "    \n",
      "    cosh(...)\n",
      "        cosh(x)\n",
      "        \n",
      "        Return the hyperbolic cosine of x.\n",
      "    \n",
      "    degrees(...)\n",
      "        degrees(x)\n",
      "        \n",
      "        Convert angle x from radians to degrees.\n",
      "    \n",
      "    erf(...)\n",
      "        erf(x)\n",
      "        \n",
      "        Error function at x.\n",
      "    \n",
      "    erfc(...)\n",
      "        erfc(x)\n",
      "        \n",
      "        Complementary error function at x.\n",
      "    \n",
      "    exp(...)\n",
      "        exp(x)\n",
      "        \n",
      "        Return e raised to the power of x.\n",
      "    \n",
      "    expm1(...)\n",
      "        expm1(x)\n",
      "        \n",
      "        Return exp(x)-1.\n",
      "        This function avoids the loss of precision involved in the direct evaluation of exp(x)-1 for small x.\n",
      "    \n",
      "    fabs(...)\n",
      "        fabs(x)\n",
      "        \n",
      "        Return the absolute value of the float x.\n",
      "    \n",
      "    factorial(...)\n",
      "        factorial(x) -> Integral\n",
      "        \n",
      "        Find x!. Raise a ValueError if x is negative or non-integral.\n",
      "    \n",
      "    floor(...)\n",
      "        floor(x)\n",
      "        \n",
      "        Return the floor of x as an Integral.\n",
      "        This is the largest integer <= x.\n",
      "    \n",
      "    fmod(...)\n",
      "        fmod(x, y)\n",
      "        \n",
      "        Return fmod(x, y), according to platform C.  x % y may differ.\n",
      "    \n",
      "    frexp(...)\n",
      "        frexp(x)\n",
      "        \n",
      "        Return the mantissa and exponent of x, as pair (m, e).\n",
      "        m is a float and e is an int, such that x = m * 2.**e.\n",
      "        If x is 0, m and e are both 0.  Else 0.5 <= abs(m) < 1.0.\n",
      "    \n",
      "    fsum(...)\n",
      "        fsum(iterable)\n",
      "        \n",
      "        Return an accurate floating point sum of values in the iterable.\n",
      "        Assumes IEEE-754 floating point arithmetic.\n",
      "    \n",
      "    gamma(...)\n",
      "        gamma(x)\n",
      "        \n",
      "        Gamma function at x.\n",
      "    \n",
      "    gcd(...)\n",
      "        gcd(x, y) -> int\n",
      "        greatest common divisor of x and y\n",
      "    \n",
      "    hypot(...)\n",
      "        hypot(x, y)\n",
      "        \n",
      "        Return the Euclidean distance, sqrt(x*x + y*y).\n",
      "    \n",
      "    isclose(...)\n",
      "        isclose(a, b, *, rel_tol=1e-09, abs_tol=0.0) -> bool\n",
      "        \n",
      "        Determine whether two floating point numbers are close in value.\n",
      "        \n",
      "           rel_tol\n",
      "               maximum difference for being considered \"close\", relative to the\n",
      "               magnitude of the input values\n",
      "            abs_tol\n",
      "               maximum difference for being considered \"close\", regardless of the\n",
      "               magnitude of the input values\n",
      "        \n",
      "        Return True if a is close in value to b, and False otherwise.\n",
      "        \n",
      "        For the values to be considered close, the difference between them\n",
      "        must be smaller than at least one of the tolerances.\n",
      "        \n",
      "        -inf, inf and NaN behave similarly to the IEEE 754 Standard.  That\n",
      "        is, NaN is not close to anything, even itself.  inf and -inf are\n",
      "        only close to themselves.\n",
      "    \n",
      "    isfinite(...)\n",
      "        isfinite(x) -> bool\n",
      "        \n",
      "        Return True if x is neither an infinity nor a NaN, and False otherwise.\n",
      "    \n",
      "    isinf(...)\n",
      "        isinf(x) -> bool\n",
      "        \n",
      "        Return True if x is a positive or negative infinity, and False otherwise.\n",
      "    \n",
      "    isnan(...)\n",
      "        isnan(x) -> bool\n",
      "        \n",
      "        Return True if x is a NaN (not a number), and False otherwise.\n",
      "    \n",
      "    ldexp(...)\n",
      "        ldexp(x, i)\n",
      "        \n",
      "        Return x * (2**i).\n",
      "    \n",
      "    lgamma(...)\n",
      "        lgamma(x)\n",
      "        \n",
      "        Natural logarithm of absolute value of Gamma function at x.\n",
      "    \n",
      "    log(...)\n",
      "        log(x[, base])\n",
      "        \n",
      "        Return the logarithm of x to the given base.\n",
      "        If the base not specified, returns the natural logarithm (base e) of x.\n",
      "    \n",
      "    log10(...)\n",
      "        log10(x)\n",
      "        \n",
      "        Return the base 10 logarithm of x.\n",
      "    \n",
      "    log1p(...)\n",
      "        log1p(x)\n",
      "        \n",
      "        Return the natural logarithm of 1+x (base e).\n",
      "        The result is computed in a way which is accurate for x near zero.\n",
      "    \n",
      "    log2(...)\n",
      "        log2(x)\n",
      "        \n",
      "        Return the base 2 logarithm of x.\n",
      "    \n",
      "    modf(...)\n",
      "        modf(x)\n",
      "        \n",
      "        Return the fractional and integer parts of x.  Both results carry the sign\n",
      "        of x and are floats.\n",
      "    \n",
      "    pow(...)\n",
      "        pow(x, y)\n",
      "        \n",
      "        Return x**y (x to the power of y).\n",
      "    \n",
      "    radians(...)\n",
      "        radians(x)\n",
      "        \n",
      "        Convert angle x from degrees to radians.\n",
      "    \n",
      "    sin(...)\n",
      "        sin(x)\n",
      "        \n",
      "        Return the sine of x (measured in radians).\n",
      "    \n",
      "    sinh(...)\n",
      "        sinh(x)\n",
      "        \n",
      "        Return the hyperbolic sine of x.\n",
      "    \n",
      "    sqrt(...)\n",
      "        sqrt(x)\n",
      "        \n",
      "        Return the square root of x.\n",
      "    \n",
      "    tan(...)\n",
      "        tan(x)\n",
      "        \n",
      "        Return the tangent of x (measured in radians).\n",
      "    \n",
      "    tanh(...)\n",
      "        tanh(x)\n",
      "        \n",
      "        Return the hyperbolic tangent of x.\n",
      "    \n",
      "    trunc(...)\n",
      "        trunc(x:Real) -> Integral\n",
      "        \n",
      "        Truncates x to the nearest Integral toward 0. Uses the __trunc__ magic method.\n",
      "\n",
      "DATA\n",
      "    e = 2.718281828459045\n",
      "    inf = inf\n",
      "    nan = nan\n",
      "    pi = 3.141592653589793\n",
      "    tau = 6.283185307179586\n",
      "\n",
      "FILE\n",
      "    (built-in)\n",
      "\n",
      "\n"
     ]
    }
   ],
   "source": [
    "help(math)"
   ]
  },
  {
   "cell_type": "markdown",
   "metadata": {},
   "source": [
    "<p>La fonction intégrée (built-in function) <b>dir()</b> renvoie une liste triée de chaînes contenant les noms définis par un module.</p>\n",
    "\n",
    "<p>La liste contient les noms de tous les modules, variables et fonctions définis dans un module. Voici un exemple simple -</p>"
   ]
  },
  {
   "cell_type": "code",
   "execution_count": 4,
   "metadata": {},
   "outputs": [
    {
     "name": "stdout",
     "output_type": "stream",
     "text": [
      "['__doc__', '__loader__', '__name__', '__package__', '__spec__', 'acos', 'acosh', 'asin', 'asinh', 'atan', 'atan2', 'atanh', 'ceil', 'copysign', 'cos', 'cosh', 'degrees', 'e', 'erf', 'erfc', 'exp', 'expm1', 'fabs', 'factorial', 'floor', 'fmod', 'frexp', 'fsum', 'gamma', 'gcd', 'hypot', 'inf', 'isclose', 'isfinite', 'isinf', 'isnan', 'ldexp', 'lgamma', 'log', 'log10', 'log1p', 'log2', 'modf', 'nan', 'pi', 'pow', 'radians', 'sin', 'sinh', 'sqrt', 'tan', 'tanh', 'tau', 'trunc']\n"
     ]
    }
   ],
   "source": [
    "# Import built-in module math\n",
    "import math\n",
    "\n",
    "content = dir(math)\n",
    "print (content)"
   ]
  },
  {
   "cell_type": "markdown",
   "metadata": {},
   "source": [
    "Quelques modules standards :\n",
    "<ul>\n",
    "<li>math : fonctions et constantes mathématiques de base (sin, cos, exp, pi...).\n",
    "<li>sys : passage d’arguments, gestion de l’entrée/sortie standard...\n",
    "<li>os : dialogue avec le système d’exploitation\n",
    "<li>random : génération de nombres aléatoires.\n",
    "<li>time : permet d’accéder à l’heure de l’ordinateur et aux fonctions gérant le temps.\n",
    "<li>calendar : fonctions de calendrier.\n",
    "<li>profile : permet d’évaluer le temps d’exécution de chaque fonction dans un programme.\n",
    "<li>urllib2 : permet de récupérer des données sur internet depuis python.\n",
    "<li>Tkinter : interface python avec Tk.\n",
    "<li>re : gestion des expressions régulières.\n",
    "<li>Numpy : pour utiliser l’algèbre linéaire, la transformée de Fourier, …\n",
    "<li>Biopython : permet la recherche dans les banques de données biologiques\n",
    "<li>Rpy : pour le dialogue R/Python\n",
    "</ul>"
   ]
  },
  {
   "cell_type": "markdown",
   "metadata": {},
   "source": [
    "<strong><u>Exemple 1</u></strong> : récupérer les arguments à partir de la ligne de commande"
   ]
  },
  {
   "cell_type": "code",
   "execution_count": null,
   "metadata": {},
   "outputs": [],
   "source": [
    "import sys\n",
    "if len(sys.argv)!=3:\n",
    "    sys.exit(\"dans le script '\"+sys.argv[0]+\"' le nombre d'argument doit être 3\")\n",
    "else:\n",
    "    a=float(sys.argv[1])\n",
    "    b=float(sys.argv[2])\n",
    "    print (\"{:.2f} + {:.2f}={:.2f}\".format(a,b,a+b))"
   ]
  },
  {
   "cell_type": "markdown",
   "metadata": {},
   "source": [
    "<strong><u>Exemple 2</u></strong> : vérifier l’existence d’un fichier"
   ]
  },
  {
   "cell_type": "code",
   "execution_count": 17,
   "metadata": {},
   "outputs": [
    {
     "name": "stdout",
     "output_type": "stream",
     "text": [
      "le fichier existe\n",
      "Fin du script\n"
     ]
    }
   ],
   "source": [
    "import sys\n",
    "import os\n",
    "if os.path.exists(\"truc2019.txt\"):\n",
    "    print (\"le fichier existe\")\n",
    "else:\n",
    "    sys.exit(\"le fichier n'existe pas\") #echo = print et die = sys.exit\n",
    "print('Fin du script')"
   ]
  },
  {
   "cell_type": "markdown",
   "metadata": {},
   "source": [
    "<strong><u>Exemple 3</u></strong> : tracer une courbe avec Matplotlib et Numpy"
   ]
  },
  {
   "cell_type": "code",
   "execution_count": 8,
   "metadata": {
    "scrolled": true
   },
   "outputs": [
    {
     "data": {
      "image/png": "[encoded data removed]",
      "text/plain": [
       "<matplotlib.figure.Figure at 0x89eb6a0>"
      ]
     },
     "metadata": {},
     "output_type": "display_data"
    }
   ],
   "source": [
    "import matplotlib.pyplot as plt\n",
    "import numpy as np\n",
    "\n",
    "t = np.arange(0.0, 2*np.pi, 0.01)\n",
    "s =  np.sin(t)\n",
    "plt.plot(t, s)\n",
    "\n",
    "plt.xlabel('t (s)')\n",
    "plt.ylabel('sin')\n",
    "plt.title('Sin(x)')\n",
    "plt.grid(True)\n",
    "plt.savefig(\"test.png\")\n",
    "plt.show()"
   ]
  },
  {
   "cell_type": "markdown",
   "metadata": {},
   "source": [
    "<strong><u>Exemple 4</u></strong> : Ségmenter (Tokenize) un texte"
   ]
  },
  {
   "cell_type": "code",
   "execution_count": 2,
   "metadata": {},
   "outputs": [],
   "source": [
    "from nltk.tokenize import word_tokenize\n",
    "from nltk.corpus import stopwords\n",
    "from nltk.stem.isri import ISRIStemmer"
   ]
  },
  {
   "cell_type": "code",
   "execution_count": 3,
   "metadata": {},
   "outputs": [
    {
     "name": "stdout",
     "output_type": "stream",
     "text": [
      "{'بخ', 'عل', 'بين', 'هو', 'هذه', 'بيد', 'لوما', 'لكن', 'أيها', 'عند', 'إذن', 'إلى', 'هذان', 'منذ', 'بماذا', 'تي', 'ومن', 'بي', 'لن', 'والذين', 'بكما', 'كلا', 'كيف', 'لك', 'بما', 'به', 'ليستا', 'إيه', 'اللذان', 'هن', 'آي', 'عما', 'مه', 'الذي', 'عسى', 'بلى', 'إلا', 'خلا', 'فيم', 'أنى', 'ذينك', 'حيثما', 'حين', 'لما', 'ليسوا', 'أنتما', 'لعل', 'هذي', 'اللذين', 'بل', 'أما', 'فمن', 'لنا', 'عن', 'بهن', 'منه', 'مذ', 'ذه', 'ذو', 'عليك', 'اللتين', 'حتى', 'لهم', 'ماذا', 'منها', 'أين', 'الذين', 'لولا', 'لي', 'هنالك', 'إذا', 'اللاتي', 'لستما', 'كليكما', 'لئن', 'لسنا', 'ذا', 'بمن', 'ما', 'لكما', 'عدا', 'أنت', 'كي', 'ممن', 'هناك', 'أقل', 'اللائي', 'فيما', 'ته', 'فيه', 'كذلك', 'والذي', 'هاتين', 'أنا', 'هاك', 'هيت', 'إليكم', 'أكثر', 'هاهنا', 'إنه', 'ذواتا', 'بكن', 'لستم', 'ذان', 'أي', 'لكي', 'كلما', 'لكنما', 'هاته', 'كلتا', 'بها', 'إنا', 'وإن', 'لهما', 'ثم', 'من', 'حاشا', 'هي', 'كذا', 'أف', 'نعم', 'تلكم', 'إن', 'بك', 'ذلكما', 'كل', 'على', 'كليهما', 'أو', 'لدى', 'أنتم', 'ولو', 'إنما', 'أنتن', 'إذما', 'كأي', 'بهما', 'هنا', 'إما', 'عليه', 'كيت', 'ذلكن', 'هم', 'ذواتي', 'شتان', 'لاسيما', 'هل', 'مهما', 'وإذ', 'متى', 'ذين', 'أولاء', 'لكم', 'بكم', 'ذاك', 'ريث', 'هما', 'فإذا', 'لهن', 'هلا', 'تلك', 'هيا', 'كأين', 'آه', 'فلا', 'تين', 'لستن', 'ولا', 'حيث', 'بهم', 'فيها', 'بعد', 'أم', 'نحو', 'هكذا', 'ذلك', 'كلاهما', 'أوه', 'ذلكم', 'غير', 'هذين', 'مع', 'أينما', 'وهو', 'ألا', 'دون', 'هيهات', 'فإن', 'ها', 'هاتان', 'كأنما', 'لا', 'كم', 'اللواتي', 'لست', 'إليك', 'هاتي', 'كأن', 'اللتيا', 'ثمة', 'ليسا', 'وما', 'يا', 'لم', 'هؤلاء', 'له', 'ذوا', 'في', 'أن', 'ليت', 'ليست', 'بس', 'لو', 'أولئك', 'بعض', 'ذي', 'التي', 'تينك', 'ذات', 'إي', 'ذانك', 'كما', 'كيفما', 'لكيلا', 'لسن', 'لها', 'سوف', 'هذا', 'آها', 'ليس', 'اللتان', 'إذ', 'إليكما', 'قد', 'وإذا', 'تلكما', 'حبذا', 'ولكن', 'نحن', 'مما', 'بنا', 'إليكن', 'سوى'}\n"
     ]
    }
   ],
   "source": [
    "stop_words=set(stopwords.words('arabic'))\n",
    "print(stop_words)"
   ]
  },
  {
   "cell_type": "code",
   "execution_count": 5,
   "metadata": {},
   "outputs": [
    {
     "name": "stdout",
     "output_type": "stream",
     "text": [
      "words :  ['الإبل', '.', 'عندما', 'كنت', 'صغيرا', '،', 'كنت', 'أستيقظ', 'في', 'السابعة', '،', 'آخذ', 'وجبة', 'الإفطار', 'قبل', 'أن', 'أذهب', 'إلى', 'المدرسة']\n"
     ]
    }
   ],
   "source": [
    "text = \" الإبل . عندما كنت صغيرا ، كنت أستيقظ في السابعة ، آخذ وجبة الإفطار قبل أن أذهب إلى المدرسة\"\n",
    "words = word_tokenize(text)\n",
    "print('words : ',words)"
   ]
  },
  {
   "cell_type": "code",
   "execution_count": 6,
   "metadata": {},
   "outputs": [
    {
     "name": "stdout",
     "output_type": "stream",
     "text": [
      "['الإبل', 'عندما', 'كنت', 'صغيرا', 'كنت', 'أستيقظ', 'السابعة', 'آخذ', 'وجبة', 'الإفطار', 'قبل', 'أذهب', 'المدرسة']\n"
     ]
    }
   ],
   "source": [
    "import string\n",
    "tokens = []\n",
    "result=[]\n",
    " \n",
    "for word in words:\n",
    "    if word not in stop_words:\n",
    "        tokens.append(word)\n",
    "for word in tokens:\n",
    "    if word not in string.punctuation+\"?،\":\n",
    "        result.append(word)\n",
    "\n",
    "print(result)"
   ]
  },
  {
   "cell_type": "code",
   "execution_count": 7,
   "metadata": {},
   "outputs": [
    {
     "name": "stdout",
     "output_type": "stream",
     "text": [
      "قبل--->قبل\n",
      "الإفطار--->فطر\n",
      "صغيرا--->صغر\n",
      "أذهب--->ذهب\n",
      "المدرسة--->درس\n",
      "آخذ--->اخذ\n",
      "السابعة--->سبع\n",
      "كنت--->كنت\n",
      "الإبل--->ابل\n",
      "عندما--->عند\n",
      "أستيقظ--->يقظ\n",
      "وجبة--->وجب\n"
     ]
    }
   ],
   "source": [
    "st = ISRIStemmer()\n",
    "stem_words=[]\n",
    "for word in set(result):\n",
    "    print(word+\"--->\"+st.stem(word))\n",
    "    stem_words.append(st.stem(word))"
   ]
  },
  {
   "cell_type": "markdown",
   "metadata": {},
   "source": [
    "<strong>Exercice 1</strong>\n",
    "<p>\n",
    "Affichez sur la même ligne les nombres de 10 à 20 (inclus) ainsi que leur racine carrée avec 3 décimales (module math). Exemple :\n",
    "</p>\n",
    "<p>\n",
    "10 3.162 <br>\n",
    "11 3.317<br>\n",
    "12 3.464<br>\n",
    "13 3.606<br>\n",
    "</p>"
   ]
  },
  {
   "cell_type": "markdown",
   "metadata": {},
   "source": [
    "<strong>Exercice 2</strong>\n",
    "<p>\n",
    "Écrivez les nombres de 1 à 10 avec 1 seconde d’intervalle (module time).\n",
    "</p>"
   ]
  },
  {
   "cell_type": "code",
   "execution_count": 5,
   "metadata": {},
   "outputs": [
    {
     "name": "stdout",
     "output_type": "stream",
     "text": [
      "1\n",
      "2\n",
      "3\n",
      "4\n",
      "5\n",
      "6\n",
      "7\n",
      "8\n",
      "9\n",
      "10\n"
     ]
    }
   ],
   "source": [
    "import time\n",
    "import numpy as np\n",
    "for i in np.arange(1,11):\n",
    "    print(i)\n",
    "    time.sleep(1)"
   ]
  },
  {
   "cell_type": "markdown",
   "metadata": {},
   "source": [
    "<strong>Exercice 3</strong>\n",
    "<p>\n",
    "Ecrire un module de calcul des racines du trinôme réel : ax<sup>2</sup> + bx + c.\n",
    "</p>\n",
    "<p>\n",
    "Le module doit retourner une fonction trinome avec les trois paramètres du trinôme, a, b et c. La fonction doit retourner un tuple dont le premier élément est le nombre de racine du trinôme (0, 1 ou 2), et les autres éléments sont les racines éventuelles.\n",
    "</p>"
   ]
  },
  {
   "cell_type": "markdown",
   "metadata": {},
   "source": [
    "<strong>Exercice 4</strong>\n",
    "<ul>\n",
    "<li>On appelle nombre premier tout entier naturel supérieur à 1 qui possède exactement deux diviseurs, lui-même et l’unité ;\n",
    "<li>On appelle diviseur propre de n, un diviseur quelconque de n, n exclu ;\n",
    "<li>Un entier naturel est dit parfait s’il est égal à la somme de tous ses diviseurs propres ;\n",
    "<li>Les nombres a tels que : (a + n + n<sup>2</sup>) est premier pour tout n dans [0, n-2], sont appelés nombres chanceux.\n",
    "</ul>\n",
    "<p>\n",
    "Écrire un module (parfait_chanceux_m.py) définissant quatre fonctions : <strong>somDiv, estParfait, estPremier</strong> et <strong>estChanceux</strong>.\n",
    "<ul>\n",
    "<li>La fonction <strong>somDiv</strong> retourne la somme des diviseurs propres de son argument.\n",
    "<li>Les trois autres fonctions vérifient la propriété donnée par leur définition et retourne un booléen. Si par exemple la fonction <strong>estPremier</strong> vérifie que son argument est premier, elle retourne <u>True</u>, sinon elle retourne <u>False</u>.\n",
    "</ul>\n",
    "</p>\n",
    "<p>\n",
    "Ecrire un programme pour tester votre module\n",
    "</p>"
   ]
  }
 ],
 "metadata": {
  "kernelspec": {
   "display_name": "Python 3",
   "language": "python",
   "name": "python3"
  },
  "language_info": {
   "codemirror_mode": {
    "name": "ipython",
    "version": 3
   },
   "file_extension": ".py",
   "mimetype": "text/x-python",
   "name": "python",
   "nbconvert_exporter": "python",
   "pygments_lexer": "ipython3",
   "version": "3.8.3"
  }
 },
 "nbformat": 4,
 "nbformat_minor": 2
}

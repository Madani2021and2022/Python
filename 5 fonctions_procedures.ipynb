{
 "cells": [
  {
   "cell_type": "markdown",
   "metadata": {},
   "source": [
    "<table width='100%' border='0'>\n",
    "    <tr>\n",
    "        <td><img src='images/ucd.png' width='120'></td>\n",
    "        <td><img src='images/dept_inf.png' width='350'></td>\n",
    "        <td><img src='images/fs.png' width='120'></td>\n",
    "    </tr>\n",
    "</table>"
   ]
  },
  {
   "cell_type": "markdown",
   "metadata": {},
   "source": [
    "# Fonctions et procédures\n",
    "\n",
    "Email : <a href='mailto:madani.a@ucd.ac.ma'>madani.a@ucd.ac.ma</a>\n",
    "<img src='images/python.png'>\n",
    "\n"
   ]
  },
  {
   "cell_type": "markdown",
   "metadata": {},
   "source": [
    "Une fonction/procédure est un bloc d’instructions nommé permettant de réaliser une tâche donnée."
   ]
  },
  {
   "cell_type": "markdown",
   "metadata": {},
   "source": [
    "Une fonction :\n",
    "<ul>\n",
    "<li>Est un bloc d’instructions nommé\n",
    "<li>Prend (éventuellement) des paramètres en entrée (non typés)\n",
    "<li>Renvoie une valeur en sortie (ou plusieurs valeurs) ou pas de valeurs dans le cas d'une procédure\n",
    "</ul>"
   ]
  },
  {
   "cell_type": "markdown",
   "metadata": {},
   "source": [
    "On créée une fonction/procédure pour plusieurs raisons :\n",
    "<ol>\n",
    "<li>Une meilleure organisation du programme (regrouper les tâches par blocs : une meilleure lisibilité et par suite une maintenance simplifiée)\n",
    "<li>Eviter la redondance\n",
    "<li>Possibilité de partager des fonctions (via des modules)\n",
    "<li>Le programme principal doit être le plus simple possible\n",
    "</ol>"
   ]
  },
  {
   "cell_type": "markdown",
   "metadata": {},
   "source": [
    "Par exemple :"
   ]
  },
  {
   "cell_type": "code",
   "execution_count": 3,
   "metadata": {},
   "outputs": [
    {
     "name": "stdout",
     "output_type": "stream",
     "text": [
      "40\n",
      "50\n"
     ]
    }
   ],
   "source": [
    "#définition de la fonction\n",
    "def petit(a, b) :\n",
    "    if a<b :\n",
    "        d=a\n",
    "    else:\n",
    "        d=b\n",
    "    return d\n",
    "#appel de la fonction\n",
    "m1=petit(40,120)\n",
    "print (m1)\n",
    "print(petit(100,50))\n"
   ]
  },
  {
   "cell_type": "markdown",
   "metadata": {},
   "source": [
    "<p>\n",
    "<strong>Remarque :</strong>\n",
    "</p>\n",
    "<p>\n",
    "Une fonction peut avoir des paramètres par défaut. Dans ce cas, on peut appeler la fonction sans lui passer de valeurs.\n",
    "</p>"
   ]
  },
  {
   "cell_type": "code",
   "execution_count": 2,
   "metadata": {},
   "outputs": [
    {
     "name": "stdout",
     "output_type": "stream",
     "text": [
      "[10, 20]\n",
      "[50, 100]\n",
      "[50, 120]\n"
     ]
    },
    {
     "ename": "TypeError",
     "evalue": "min_max() missing 1 required positional argument: 'a'",
     "output_type": "error",
     "traceback": [
      "\u001b[1;31m---------------------------------------------------------------------------\u001b[0m",
      "\u001b[1;31mTypeError\u001b[0m                                 Traceback (most recent call last)",
      "\u001b[1;32m<ipython-input-2-6768defea4e4>\u001b[0m in \u001b[0;36m<module>\u001b[1;34m\u001b[0m\n\u001b[0;32m     11\u001b[0m \u001b[0mprint\u001b[0m\u001b[1;33m(\u001b[0m\u001b[0mmin_max\u001b[0m\u001b[1;33m(\u001b[0m\u001b[1;36m100\u001b[0m\u001b[1;33m,\u001b[0m\u001b[1;36m50\u001b[0m\u001b[1;33m)\u001b[0m\u001b[1;33m)\u001b[0m\u001b[1;33m\u001b[0m\u001b[1;33m\u001b[0m\u001b[0m\n\u001b[0;32m     12\u001b[0m \u001b[0mprint\u001b[0m\u001b[1;33m(\u001b[0m\u001b[0mmin_max\u001b[0m\u001b[1;33m(\u001b[0m\u001b[1;36m120\u001b[0m\u001b[1;33m)\u001b[0m\u001b[1;33m)\u001b[0m \u001b[1;31m#équivalent à print(min_max(120,50))\u001b[0m\u001b[1;33m\u001b[0m\u001b[1;33m\u001b[0m\u001b[0m\n\u001b[1;32m---> 13\u001b[1;33m \u001b[0mprint\u001b[0m\u001b[1;33m(\u001b[0m\u001b[0mmin_max\u001b[0m\u001b[1;33m(\u001b[0m\u001b[1;33m)\u001b[0m\u001b[1;33m)\u001b[0m\u001b[1;33m\u001b[0m\u001b[1;33m\u001b[0m\u001b[0m\n\u001b[0m",
      "\u001b[1;31mTypeError\u001b[0m: min_max() missing 1 required positional argument: 'a'"
     ]
    }
   ],
   "source": [
    "#définition de la fonction\n",
    "def min_max(a, b=50) :\n",
    "    if (a<b) :\n",
    "        res=[a, b]\n",
    "    else :\n",
    "        res=[b, a]\n",
    "    return res\n",
    "#appel de la fonction\n",
    "uneListe=min_max(10,20)\n",
    "print (uneListe)\n",
    "print(min_max(100,50))\n",
    "print(min_max(120)) #équivalent à print(min_max(120,50))\n",
    "print(min_max())\n"
   ]
  },
  {
   "cell_type": "markdown",
   "metadata": {},
   "source": [
    "<p><strong>Remarque : </strong></p>\n",
    "<p>\n",
    "Attention, les paramètres avec valeurs par défauts doivent être regroupés en dernière position dans la liste des paramètres.\n",
    "</p>"
   ]
  },
  {
   "cell_type": "markdown",
   "metadata": {},
   "source": [
    "## Exercice 1\n",
    "<p>\n",
    "Ecrire et tester les fonctions suivantes :\n",
    "</p>\n",
    "<ul>\n",
    "<li>Somme(n) : retourne la somme des n premiers entiers\n",
    "<li>Factoriel(n) : retourne le factoriel de n où n un entier positif ou nul\n",
    "<li>Min(liste) : retourne le minimum d’une liste\n",
    "<li>Max(liste) : retourne le maximum d’une liste\n",
    "</ul>"
   ]
  },
  {
   "cell_type": "markdown",
   "metadata": {},
   "source": [
    "## Exercice 2\n",
    "<p>\n",
    "Ecrire et tester une fonction pour calculer la surface d’un disque de rayon R\n",
    "</p>"
   ]
  },
  {
   "cell_type": "markdown",
   "metadata": {},
   "source": [
    "## Exercice 3\n",
    "<p>\n",
    "Ecrire et tester la fonction définie par : f(x) = 2x<sup>3</sup> + x – 5\n",
    "</p>"
   ]
  },
  {
   "cell_type": "markdown",
   "metadata": {},
   "source": [
    "## Exercice 4\n",
    "<p>\n",
    "Ecrire une fonction somme avec un argument \"tuple de longueur variable\" qui calcule la somme des nombres contenus dans le tuple.\n",
    "</p>"
   ]
  },
  {
   "cell_type": "code",
   "execution_count": null,
   "metadata": {
    "collapsed": true
   },
   "outputs": [],
   "source": []
  }
 ],
 "metadata": {
  "kernelspec": {
   "display_name": "Python 3",
   "language": "python",
   "name": "python3"
  },
  "language_info": {
   "codemirror_mode": {
    "name": "ipython",
    "version": 3
   },
   "file_extension": ".py",
   "mimetype": "text/x-python",
   "name": "python",
   "nbconvert_exporter": "python",
   "pygments_lexer": "ipython3",
   "version": "3.8.3"
  }
 },
 "nbformat": 4,
 "nbformat_minor": 2
}
